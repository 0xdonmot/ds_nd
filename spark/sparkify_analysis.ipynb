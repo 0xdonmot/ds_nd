{
  "cells": [
    {
      "cell_type": "markdown",
      "metadata": {
        "id": "LzhjdwZKKb32"
      },
      "source": [
        "# Sparkify Project Workspace\n",
        "\n",
        "### Problem Introduction\n",
        "This notebook takes in data from the music streaming service Sparkify and explores its data to identify users who are likely to cancel/churn. Churn prediction is an important business objective, as it allows businesses to identify and potentially retain users that may be likely to cancel.\n",
        "\n",
        "### Strategy to solve the problem\n",
        "Sparkify has recorded data which contains information on all user interactions with their service between 01/10/2018 and 01/12/2018. I will analyse this data to see if any patterns can be extracted on users who cancel their subscriptions. Armed with this information, Sparkify could target such customers and develop a strategy to retain them."
      ]
    },
    {
      "cell_type": "code",
      "execution_count": 1,
      "metadata": {
        "colab": {
          "base_uri": "https://localhost:8080/"
        },
        "id": "F7D74NT4LFJe",
        "outputId": "9c3a0bd3-bec1-4266-dd16-0633bfa8111f"
      },
      "outputs": [
        {
          "output_type": "stream",
          "name": "stdout",
          "text": [
            "Looking in indexes: https://pypi.org/simple, https://us-python.pkg.dev/colab-wheels/public/simple/\n",
            "Collecting pyspark\n",
            "  Downloading pyspark-3.3.0.tar.gz (281.3 MB)\n",
            "\u001b[K     |████████████████████████████████| 281.3 MB 35 kB/s \n",
            "\u001b[?25hCollecting py4j\n",
            "  Downloading py4j-0.10.9.7-py2.py3-none-any.whl (200 kB)\n",
            "\u001b[K     |████████████████████████████████| 200 kB 54.3 MB/s \n",
            "\u001b[?25h  Downloading py4j-0.10.9.5-py2.py3-none-any.whl (199 kB)\n",
            "\u001b[K     |████████████████████████████████| 199 kB 72.2 MB/s \n",
            "\u001b[?25hBuilding wheels for collected packages: pyspark\n",
            "  Building wheel for pyspark (setup.py) ... \u001b[?25l\u001b[?25hdone\n",
            "  Created wheel for pyspark: filename=pyspark-3.3.0-py2.py3-none-any.whl size=281764026 sha256=379655effcad550fe0712e1ecb9c6b633c798bcc15caf568624a1439d5b93265\n",
            "  Stored in directory: /root/.cache/pip/wheels/7a/8e/1b/f73a52650d2e5f337708d9f6a1750d451a7349a867f928b885\n",
            "Successfully built pyspark\n",
            "Installing collected packages: py4j, pyspark\n",
            "Successfully installed py4j-0.10.9.5 pyspark-3.3.0\n"
          ]
        }
      ],
      "source": [
        "# install spark\n",
        "!pip install pyspark py4j"
      ]
    },
    {
      "cell_type": "code",
      "execution_count": 411,
      "metadata": {
        "id": "3K6V8j0SKb34"
      },
      "outputs": [],
      "source": [
        "# import python libraries\n",
        "import pandas as pd\n",
        "import numpy as np\n",
        "import matplotlib.pyplot as plt\n",
        "import seaborn as sns\n",
        "import datetime\n",
        "import time\n",
        "\n",
        "# import spark libraries\n",
        "from pyspark.sql.functions import udf\n",
        "from pyspark.sql.types import StringType, IntegerType, DateType, FloatType\n",
        "from pyspark.sql.functions import desc, asc\n",
        "from pyspark.sql.functions import desc, asc, isnan, sum as Fsum, col, when, count, avg, from_unixtime, from_utc_timestamp, max as Fmax, datediff\n",
        "from pyspark.sql import SparkSession, Window\n",
        "\n",
        "from pyspark.ml.classification import NaiveBayes, GBTClassifier, LinearSVC, DecisionTreeClassifier, RandomForestClassifier, LogisticRegression\n",
        "from pyspark.ml.evaluation import MulticlassClassificationEvaluator\n",
        "from pyspark.ml.tuning import CrossValidator, ParamGridBuilder, TrainValidationSplit\n",
        "from pyspark.ml.feature import VectorAssembler, StandardScaler"
      ]
    },
    {
      "cell_type": "code",
      "execution_count": 3,
      "metadata": {
        "id": "0lu9giSHKb35"
      },
      "outputs": [],
      "source": [
        "# create a Spark session\n",
        "spark = SparkSession.builder.getOrCreate()"
      ]
    },
    {
      "cell_type": "markdown",
      "metadata": {
        "id": "9WmGr1ueKb36"
      },
      "source": [
        "## Load and Explore Dataset"
      ]
    },
    {
      "cell_type": "code",
      "execution_count": 4,
      "metadata": {
        "colab": {
          "base_uri": "https://localhost:8080/"
        },
        "id": "ybDhegmrO8Jr",
        "outputId": "38de035a-3200-4ca1-de40-1eb6e2c053c3"
      },
      "outputs": [
        {
          "output_type": "stream",
          "name": "stdout",
          "text": [
            "Mounted at /content/drive\n"
          ]
        }
      ],
      "source": [
        "# give google drive permissions\n",
        "from google.colab import drive\n",
        "drive.mount('/content/drive')"
      ]
    },
    {
      "cell_type": "code",
      "execution_count": 5,
      "metadata": {
        "colab": {
          "base_uri": "https://localhost:8080/"
        },
        "id": "7GFXQit2Kb36",
        "outputId": "fe4663f1-c8af-451e-e0da-3a4a4ebea7f4"
      },
      "outputs": [
        {
          "output_type": "execute_result",
          "data": {
            "text/plain": [
              "[Row(artist='Martin Orford', auth='Logged In', firstName='Joseph', gender='M', itemInSession=20, lastName='Morales', length=597.55057, level='free', location='Corpus Christi, TX', method='PUT', page='NextSong', registration=1532063507000, sessionId=292, song='Grand Designs', status=200, ts=1538352011000, userAgent='\"Mozilla/5.0 (Macintosh; Intel Mac OS X 10_9_4) AppleWebKit/537.36 (KHTML, like Gecko) Chrome/36.0.1985.125 Safari/537.36\"', userId='293'),\n",
              " Row(artist=\"John Brown's Body\", auth='Logged In', firstName='Sawyer', gender='M', itemInSession=74, lastName='Larson', length=380.21179, level='free', location='Houston-The Woodlands-Sugar Land, TX', method='PUT', page='NextSong', registration=1538069638000, sessionId=97, song='Bulls', status=200, ts=1538352025000, userAgent='\"Mozilla/5.0 (Macintosh; Intel Mac OS X 10_9_4) AppleWebKit/537.36 (KHTML, like Gecko) Chrome/36.0.1985.143 Safari/537.36\"', userId='98')]"
            ]
          },
          "metadata": {},
          "execution_count": 5
        }
      ],
      "source": [
        "# import data\n",
        "df_data_1 = spark.read.json('/content/drive/MyDrive/Colab Notebooks/medium-sparkify-event-data.json')\n",
        "df_data_1.persist() # store dataframe in memory instead of reading from disk every time - improves performance\n",
        "df_data_1.show(2) # display first two rows"
      ]
    },
    {
      "cell_type": "code",
      "execution_count": 6,
      "metadata": {
        "colab": {
          "base_uri": "https://localhost:8080/"
        },
        "id": "9YOwdnW2Kb36",
        "outputId": "cbddef4f-57e5-47aa-e965-8cd1f0d07435"
      },
      "outputs": [
        {
          "output_type": "stream",
          "name": "stdout",
          "text": [
            "root\n",
            " |-- artist: string (nullable = true)\n",
            " |-- auth: string (nullable = true)\n",
            " |-- firstName: string (nullable = true)\n",
            " |-- gender: string (nullable = true)\n",
            " |-- itemInSession: long (nullable = true)\n",
            " |-- lastName: string (nullable = true)\n",
            " |-- length: double (nullable = true)\n",
            " |-- level: string (nullable = true)\n",
            " |-- location: string (nullable = true)\n",
            " |-- method: string (nullable = true)\n",
            " |-- page: string (nullable = true)\n",
            " |-- registration: long (nullable = true)\n",
            " |-- sessionId: long (nullable = true)\n",
            " |-- song: string (nullable = true)\n",
            " |-- status: long (nullable = true)\n",
            " |-- ts: long (nullable = true)\n",
            " |-- userAgent: string (nullable = true)\n",
            " |-- userId: string (nullable = true)\n",
            "\n"
          ]
        }
      ],
      "source": [
        "# display data columns\n",
        "df_data_1.printSchema()"
      ]
    },
    {
      "cell_type": "markdown",
      "metadata": {
        "id": "CEGhpVeVKb36"
      },
      "source": [
        "- SessionId should be a string type"
      ]
    },
    {
      "cell_type": "code",
      "execution_count": 7,
      "metadata": {
        "colab": {
          "base_uri": "https://localhost:8080/"
        },
        "id": "BSYqKk8ZKb37",
        "outputId": "a63af568-76e9-4670-ed23-41247324b8d8"
      },
      "outputs": [
        {
          "output_type": "stream",
          "name": "stdout",
          "text": [
            "+------+----+---------+------+-------------+--------+------+-----+--------+------+----+------------+---------+------+------+---+---------+------+\n",
            "|artist|auth|firstName|gender|itemInSession|lastName|length|level|location|method|page|registration|sessionId|  song|status| ts|userAgent|userId|\n",
            "+------+----+---------+------+-------------+--------+------+-----+--------+------+----+------------+---------+------+------+---+---------+------+\n",
            "|110828|   0|    15700| 15700|            0|   15700|110828|    0|   15700|     0|   0|       15700|        0|110829|     0|  0|    15700|     0|\n",
            "+------+----+---------+------+-------------+--------+------+-----+--------+------+----+------------+---------+------+------+---+---------+------+\n",
            "\n"
          ]
        }
      ],
      "source": [
        "#Count of non-null for all columns\n",
        "from pyspark.sql.functions import col, when, count\n",
        "df_data_1.select([count(when(isnan(c) | col(c).isNull(), c)).alias(c) for c in df_data_1.columns]).show()"
      ]
    },
    {
      "cell_type": "markdown",
      "metadata": {
        "id": "KkkPIXjFKb37"
      },
      "source": [
        "- Looks like all empty artist rows will also have empty length and song rows.\n",
        "- The same applies for first Name, gender, last name, location, registration and user agent.\n",
        "- Remove empty userId records"
      ]
    },
    {
      "cell_type": "code",
      "execution_count": 11,
      "metadata": {
        "colab": {
          "base_uri": "https://localhost:8080/"
        },
        "id": "EiGwbrhEKb38",
        "outputId": "d6e57e0f-e37f-4f42-88ce-d12eba3b4af5"
      },
      "outputs": [
        {
          "output_type": "stream",
          "name": "stdout",
          "text": [
            "+----------+\n",
            "|      auth|\n",
            "+----------+\n",
            "|Logged Out|\n",
            "|     Guest|\n",
            "+----------+\n",
            "\n"
          ]
        }
      ],
      "source": [
        "# view auth values where user agent are last name (and other columns) are null\n",
        "df_data_1.filter(df_data_1.userAgent.isNull() & df_data_1.lastName.isNull()).select(['auth']).dropDuplicates().show()"
      ]
    },
    {
      "cell_type": "code",
      "execution_count": 12,
      "metadata": {
        "colab": {
          "base_uri": "https://localhost:8080/"
        },
        "id": "8_SipPl1Kb38",
        "outputId": "d8192f7c-d7f3-4c32-d0a6-741a244f6711"
      },
      "outputs": [
        {
          "output_type": "stream",
          "name": "stdout",
          "text": [
            "+-------------------+\n",
            "|               page|\n",
            "+-------------------+\n",
            "|               Home|\n",
            "|              About|\n",
            "|Submit Registration|\n",
            "|              Login|\n",
            "|           Register|\n",
            "|               Help|\n",
            "|              Error|\n",
            "+-------------------+\n",
            "\n"
          ]
        }
      ],
      "source": [
        "# view page values where user agent are last name (and other columns) are null\n",
        "df_data_1.filter(df_data_1.userAgent.isNull() & df_data_1.lastName.isNull()).select('page').dropDuplicates().show()"
      ]
    },
    {
      "cell_type": "markdown",
      "metadata": {
        "id": "4yPTUK4GKb38"
      },
      "source": [
        "- Looks like the null lastName etc rows are logged out users or guests. This makes sense - we shouldn't have information for them if they are not registered users."
      ]
    },
    {
      "cell_type": "code",
      "execution_count": 14,
      "metadata": {
        "colab": {
          "base_uri": "https://localhost:8080/"
        },
        "id": "V5KJYcprKb39",
        "outputId": "55d38a1e-15e3-4ed2-d740-5df9c9d41144"
      },
      "outputs": [
        {
          "output_type": "execute_result",
          "data": {
            "text/plain": [
              "[Row(artist=None, auth='Logged In', firstName='Maverick', gender='M', itemInSession=185, lastName='Santiago', length=None, level='paid', location='Orlando-Kissimmee-Sanford, FL', method='PUT', page='Logout', registration=1535953455000, sessionId=178, song=None, status=307, ts=1538352119000, userAgent='\"Mozilla/5.0 (Macintosh; Intel Mac OS X 10_9_4) AppleWebKit/537.36 (KHTML, like Gecko) Chrome/36.0.1985.143 Safari/537.36\"', userId='179'),\n",
              " Row(artist=None, auth='Logged Out', firstName=None, gender=None, itemInSession=186, lastName=None, length=None, level='paid', location=None, method='GET', page='Home', registration=None, sessionId=178, song=None, status=200, ts=1538352148000, userAgent=None, userId=''),\n",
              " Row(artist=None, auth='Logged Out', firstName=None, gender=None, itemInSession=187, lastName=None, length=None, level='paid', location=None, method='GET', page='Home', registration=None, sessionId=178, song=None, status=200, ts=1538352151000, userAgent=None, userId=''),\n",
              " Row(artist=None, auth='Logged In', firstName='Gianna', gender='F', itemInSession=34, lastName='Campos', length=None, level='paid', location='Mobile, AL', method='PUT', page='Thumbs Up', registration=1535931018000, sessionId=245, song=None, status=307, ts=1538354092000, userAgent='Mozilla/5.0 (Windows NT 6.1; WOW64; rv:31.0) Gecko/20100101 Firefox/31.0', userId='246'),\n",
              " Row(artist=None, auth='Logged In', firstName='Kee', gender='M', itemInSession=6, lastName='Taylor', length=None, level='free', location='Virginia Beach-Norfolk-Newport News, VA-NC', method='GET', page='Roll Advert', registration=1533764798000, sessionId=195, song=None, status=200, ts=1538354331000, userAgent='\"Mozilla/5.0 (Windows NT 6.1; WOW64) AppleWebKit/537.36 (KHTML, like Gecko) Chrome/36.0.1985.125 Safari/537.36\"', userId='196')]"
            ]
          },
          "metadata": {},
          "execution_count": 14
        }
      ],
      "source": [
        "# view rows where user agent are last name (and other columns) are null\n",
        "df_data_1.filter(df_data_1.artist.isNull()).sample(0.1).take(5)"
      ]
    },
    {
      "cell_type": "code",
      "execution_count": 15,
      "metadata": {
        "colab": {
          "base_uri": "https://localhost:8080/"
        },
        "id": "HPvBpd2LKb39",
        "outputId": "f86ec1ce-8a2d-405a-ad0e-fab46e46bc8f"
      },
      "outputs": [
        {
          "output_type": "execute_result",
          "data": {
            "text/plain": [
              "15700"
            ]
          },
          "metadata": {},
          "execution_count": 15
        }
      ],
      "source": [
        "# check that all null artist rows are also null user agent rows\n",
        "mask = df_data_1.artist.isNull() & df_data_1.userAgent.isNull()\n",
        "df_data_1.filter(mask).count()"
      ]
    },
    {
      "cell_type": "markdown",
      "metadata": {
        "id": "dW9GpZ1XKb39"
      },
      "source": [
        "- All null artist rows are also null user agent (etc) rows"
      ]
    },
    {
      "cell_type": "code",
      "execution_count": 16,
      "metadata": {
        "colab": {
          "base_uri": "https://localhost:8080/"
        },
        "id": "eFt6K1laKb39",
        "outputId": "098cc9e5-9029-45b7-fc3b-9f7f40713257"
      },
      "outputs": [
        {
          "output_type": "stream",
          "name": "stdout",
          "text": [
            "+--------------------+\n",
            "|                page|\n",
            "+--------------------+\n",
            "|              Cancel|\n",
            "|    Submit Downgrade|\n",
            "|         Thumbs Down|\n",
            "|                Home|\n",
            "|           Downgrade|\n",
            "|         Roll Advert|\n",
            "|              Logout|\n",
            "|       Save Settings|\n",
            "|Cancellation Conf...|\n",
            "|               About|\n",
            "| Submit Registration|\n",
            "|            Settings|\n",
            "|               Login|\n",
            "|            Register|\n",
            "|     Add to Playlist|\n",
            "|          Add Friend|\n",
            "|           Thumbs Up|\n",
            "|                Help|\n",
            "|             Upgrade|\n",
            "|               Error|\n",
            "+--------------------+\n",
            "only showing top 20 rows\n",
            "\n"
          ]
        }
      ],
      "source": [
        "# view page values where artist (and other columns) is null\n",
        "df_data_1.filter(df_data_1.artist.isNull()).select('page').dropDuplicates().show()"
      ]
    },
    {
      "cell_type": "code",
      "execution_count": 17,
      "metadata": {
        "colab": {
          "base_uri": "https://localhost:8080/"
        },
        "id": "ylxifvosKb39",
        "outputId": "4405eb5c-3deb-4ed6-b381-9f25871c816b"
      },
      "outputs": [
        {
          "output_type": "stream",
          "name": "stdout",
          "text": [
            "+--------------------+\n",
            "|                page|\n",
            "+--------------------+\n",
            "|              Cancel|\n",
            "|    Submit Downgrade|\n",
            "|         Thumbs Down|\n",
            "|                Home|\n",
            "|           Downgrade|\n",
            "|         Roll Advert|\n",
            "|              Logout|\n",
            "|       Save Settings|\n",
            "|Cancellation Conf...|\n",
            "|               About|\n",
            "| Submit Registration|\n",
            "|            Settings|\n",
            "|               Login|\n",
            "|            Register|\n",
            "|     Add to Playlist|\n",
            "|          Add Friend|\n",
            "|           Thumbs Up|\n",
            "|                Help|\n",
            "|             Upgrade|\n",
            "|               Error|\n",
            "+--------------------+\n",
            "only showing top 20 rows\n",
            "\n"
          ]
        }
      ],
      "source": [
        "# view page values where artist (and other columns) is null\n",
        "df_data_1.filter(df_data_1.artist.isNull()).select('page').dropDuplicates().show()"
      ]
    },
    {
      "cell_type": "code",
      "execution_count": 18,
      "metadata": {
        "colab": {
          "base_uri": "https://localhost:8080/"
        },
        "id": "drM20Yj6Kb39",
        "outputId": "8af49e14-2d0e-42f7-e6e6-d76d0f337f4c"
      },
      "outputs": [
        {
          "output_type": "stream",
          "name": "stdout",
          "text": [
            "+--------+\n",
            "|    page|\n",
            "+--------+\n",
            "|NextSong|\n",
            "+--------+\n",
            "\n"
          ]
        }
      ],
      "source": [
        "# view page values where artist (and other columns) is not null\n",
        "df_data_1.filter(df_data_1.artist.isNotNull()).select('page').dropDuplicates().show()"
      ]
    },
    {
      "cell_type": "markdown",
      "metadata": {
        "id": "4fogze49Kb3-"
      },
      "source": [
        "- All null artist rows relate to users actions that are not \"NextSong\""
      ]
    },
    {
      "cell_type": "code",
      "execution_count": 19,
      "metadata": {
        "colab": {
          "base_uri": "https://localhost:8080/"
        },
        "id": "_op24odzKb3-",
        "outputId": "4989a84e-be16-461c-dfea-18c58e66ace2"
      },
      "outputs": [
        {
          "output_type": "stream",
          "name": "stdout",
          "text": [
            "+------+\n",
            "|userId|\n",
            "+------+\n",
            "|      |\n",
            "|    10|\n",
            "|   100|\n",
            "|100001|\n",
            "|100002|\n",
            "|100003|\n",
            "|100004|\n",
            "|100005|\n",
            "|100006|\n",
            "|100007|\n",
            "|100008|\n",
            "|100009|\n",
            "|100010|\n",
            "|100011|\n",
            "|100012|\n",
            "|100013|\n",
            "|100014|\n",
            "|100015|\n",
            "|100016|\n",
            "|100017|\n",
            "+------+\n",
            "only showing top 20 rows\n",
            "\n"
          ]
        }
      ],
      "source": [
        "# check for blank user ids\n",
        "df_data_1.select('userId').dropDuplicates().sort('userId').show()"
      ]
    },
    {
      "cell_type": "markdown",
      "metadata": {
        "id": "WrwbxfjqKb3-"
      },
      "source": [
        "- Remove empty userId records"
      ]
    },
    {
      "cell_type": "markdown",
      "metadata": {
        "id": "qRjI5njuKb3_"
      },
      "source": [
        "## Data Cleaning"
      ]
    },
    {
      "cell_type": "markdown",
      "metadata": {
        "id": "cs14v1_kKb3_"
      },
      "source": [
        "#### Filter out blank user ID rows"
      ]
    },
    {
      "cell_type": "code",
      "execution_count": 26,
      "metadata": {
        "id": "CLxClHchKb3_"
      },
      "outputs": [],
      "source": [
        "# filter out blank user ids\n",
        "df_data_2 = df_data_1.filter(df_data_1['userId'] != '')"
      ]
    },
    {
      "cell_type": "code",
      "execution_count": 27,
      "metadata": {
        "colab": {
          "base_uri": "https://localhost:8080/"
        },
        "id": "9GnTQzmjKb3_",
        "outputId": "f16fb64d-97fc-49e2-90ae-c36488d38678"
      },
      "outputs": [
        {
          "output_type": "stream",
          "name": "stdout",
          "text": [
            "+------+\n",
            "|userId|\n",
            "+------+\n",
            "|    10|\n",
            "|   100|\n",
            "+------+\n",
            "only showing top 2 rows\n",
            "\n"
          ]
        }
      ],
      "source": [
        "# check blank user ids removed\n",
        "df_data_2.select('userId').dropDuplicates().sort('userId').show(2)"
      ]
    },
    {
      "cell_type": "markdown",
      "metadata": {
        "id": "wGX6i9LmKb3_"
      },
      "source": [
        "#### Cast session ID to string type"
      ]
    },
    {
      "cell_type": "code",
      "execution_count": 28,
      "metadata": {
        "id": "3A51W1r4Kb3_",
        "scrolled": true
      },
      "outputs": [],
      "source": [
        "# change session id to string type\n",
        "df_data_3 = df_data_2.withColumn('sessionId', col('sessionId').cast(StringType()))"
      ]
    },
    {
      "cell_type": "code",
      "execution_count": 29,
      "metadata": {
        "colab": {
          "base_uri": "https://localhost:8080/"
        },
        "id": "8S58H_LUKb3_",
        "outputId": "9473b2d8-d33c-4630-e87c-979db3c5adf2"
      },
      "outputs": [
        {
          "output_type": "stream",
          "name": "stdout",
          "text": [
            "root\n",
            " |-- artist: string (nullable = true)\n",
            " |-- auth: string (nullable = true)\n",
            " |-- firstName: string (nullable = true)\n",
            " |-- gender: string (nullable = true)\n",
            " |-- itemInSession: long (nullable = true)\n",
            " |-- lastName: string (nullable = true)\n",
            " |-- length: double (nullable = true)\n",
            " |-- level: string (nullable = true)\n",
            " |-- location: string (nullable = true)\n",
            " |-- method: string (nullable = true)\n",
            " |-- page: string (nullable = true)\n",
            " |-- registration: long (nullable = true)\n",
            " |-- sessionId: string (nullable = true)\n",
            " |-- song: string (nullable = true)\n",
            " |-- status: long (nullable = true)\n",
            " |-- ts: long (nullable = true)\n",
            " |-- userAgent: string (nullable = true)\n",
            " |-- userId: string (nullable = true)\n",
            "\n"
          ]
        }
      ],
      "source": [
        "# check the change\n",
        "df_data_3.printSchema()"
      ]
    },
    {
      "cell_type": "code",
      "source": [
        "# check that registration is unique for each user\n",
        "df_data_3.select(['registration', 'userId']).dropDuplicates().count() == df_data_3.select(['userId']).dropDuplicates().count()"
      ],
      "metadata": {
        "colab": {
          "base_uri": "https://localhost:8080/"
        },
        "id": "iVfunS-On5jq",
        "outputId": "51edd891-854c-4f8e-df85-160314bd8988"
      },
      "execution_count": 30,
      "outputs": [
        {
          "output_type": "execute_result",
          "data": {
            "text/plain": [
              "True"
            ]
          },
          "metadata": {},
          "execution_count": 30
        }
      ]
    },
    {
      "cell_type": "markdown",
      "metadata": {
        "id": "WHS-ze4iKb3_"
      },
      "source": [
        "#### Add readable date columns\n",
        "\n"
      ]
    },
    {
      "cell_type": "code",
      "execution_count": 31,
      "metadata": {
        "id": "ZOfN_LlvKb3_"
      },
      "outputs": [],
      "source": [
        "# create readable date column\n",
        "from pyspark.sql.functions import unix_timestamp\n",
        "df_data_3 = df_data_3.withColumn('time', from_unixtime(col('ts')/ 1000,\"yyyy-MM-dd HH:mm:ss:SSS\").cast(DateType()))\n",
        "\n",
        "# create readable registration date column\n",
        "df_data_3 = df_data_3.withColumn('registration_time', from_unixtime(col('registration')/ 1000,\"yyyy-MM-dd HH:mm:ss:SSS\").cast(DateType()))"
      ]
    },
    {
      "cell_type": "code",
      "execution_count": 32,
      "metadata": {
        "colab": {
          "base_uri": "https://localhost:8080/"
        },
        "id": "mjGPrVwAKb4A",
        "outputId": "417ab567-423a-4dc2-d4d4-3e87d3f96d8a"
      },
      "outputs": [
        {
          "output_type": "stream",
          "name": "stdout",
          "text": [
            "+----------+-------------+\n",
            "|      time|           ts|\n",
            "+----------+-------------+\n",
            "|2018-12-01|1543622466000|\n",
            "|2018-12-01|1543622405000|\n",
            "|2018-12-01|1543622404000|\n",
            "|2018-12-01|1543622401000|\n",
            "|2018-11-30|1543622393000|\n",
            "+----------+-------------+\n",
            "only showing top 5 rows\n",
            "\n"
          ]
        }
      ],
      "source": [
        "# check change\n",
        "df_data_3.select(['time','ts']).sort(desc('ts')).show(5)"
      ]
    },
    {
      "cell_type": "code",
      "source": [
        "df_data_3.sort(asc('time')).show(1)"
      ],
      "metadata": {
        "colab": {
          "base_uri": "https://localhost:8080/"
        },
        "id": "mCEtOgdoYRkR",
        "outputId": "82b33c58-75a7-4dff-af34-ab299a4e7965"
      },
      "execution_count": 33,
      "outputs": [
        {
          "output_type": "stream",
          "name": "stdout",
          "text": [
            "+------+---------+-----------+------+-------------+--------+------+-----+-----------+------+----+-------------+---------+----+------+-------------+--------------------+------+----------+-----------------+\n",
            "|artist|     auth|  firstName|gender|itemInSession|lastName|length|level|   location|method|page| registration|sessionId|song|status|           ts|           userAgent|userId|      time|registration_time|\n",
            "+------+---------+-----------+------+-------------+--------+------+-----+-----------+------+----+-------------+---------+----+------+-------------+--------------------+------+----------+-----------------+\n",
            "|  null|Logged In|Christopher|     M|            0|   Perez|  null| free|Rutland, VT|   GET|Home|1534537891000|       49|null|   200|1538352802000|\"Mozilla/5.0 (Mac...|100049|2018-10-01|       2018-08-17|\n",
            "+------+---------+-----------+------+-------------+--------+------+-----+-----------+------+----+-------------+---------+----+------+-------------+--------------------+------+----------+-----------------+\n",
            "only showing top 1 row\n",
            "\n"
          ]
        }
      ]
    },
    {
      "cell_type": "code",
      "source": [
        "# check change\n",
        "df_data_3.select(['registration','registration_time']).dropDuplicates().sort(desc('registration')).show(5)"
      ],
      "metadata": {
        "colab": {
          "base_uri": "https://localhost:8080/"
        },
        "id": "4UJAe5XKojff",
        "outputId": "f70a78a8-b809-44b3-9c00-52970db54a55"
      },
      "execution_count": 34,
      "outputs": [
        {
          "output_type": "stream",
          "name": "stdout",
          "text": [
            "+-------------+-----------------+\n",
            "| registration|registration_time|\n",
            "+-------------+-----------------+\n",
            "|1543073874000|       2018-11-24|\n",
            "|1542205030000|       2018-11-14|\n",
            "|1541041865000|       2018-11-01|\n",
            "|1539437340000|       2018-10-13|\n",
            "|1538347306000|       2018-09-30|\n",
            "+-------------+-----------------+\n",
            "only showing top 5 rows\n",
            "\n"
          ]
        }
      ]
    },
    {
      "cell_type": "markdown",
      "metadata": {
        "id": "neUotegGKb4A"
      },
      "source": [
        "### Exploratory Data Analysis"
      ]
    },
    {
      "cell_type": "code",
      "execution_count": 35,
      "metadata": {
        "colab": {
          "base_uri": "https://localhost:8080/"
        },
        "id": "S1K7PKPOKb4A",
        "outputId": "dad2046a-a715-4ec4-f31a-06b8d1603ba9"
      },
      "outputs": [
        {
          "output_type": "execute_result",
          "data": {
            "text/plain": [
              "528005"
            ]
          },
          "metadata": {},
          "execution_count": 35
        }
      ],
      "source": [
        "# data length\n",
        "df_data_3.count()"
      ]
    },
    {
      "cell_type": "code",
      "execution_count": 36,
      "metadata": {
        "id": "PdQavwqdKb4A"
      },
      "outputs": [],
      "source": [
        "# filter for random sample of data\n",
        "proportion = 0.1\n",
        "df_data_3_sample = df_data_3.sample(proportion)"
      ]
    },
    {
      "cell_type": "code",
      "execution_count": 37,
      "metadata": {
        "colab": {
          "base_uri": "https://localhost:8080/",
          "height": 621
        },
        "id": "ZvU4bbAkKb4A",
        "outputId": "d0fcf220-0de5-4441-97d8-0cb02c95938c"
      },
      "outputs": [
        {
          "output_type": "display_data",
          "data": {
            "text/plain": [
              "<Figure size 1080x720 with 6 Axes>"
            ],
            "image/png": "[encoded data removed]"
          },
          "metadata": {
            "needs_background": "light"
          }
        }
      ],
      "source": [
        "# view histogram of numeric variables\n",
        "df_data_3_sample_pd = df_data_3_sample.toPandas()\n",
        "df_data_3_sample_pd.hist(figsize=(15, 10))\n",
        "plt.show()"
      ]
    },
    {
      "cell_type": "code",
      "execution_count": 38,
      "metadata": {
        "colab": {
          "base_uri": "https://localhost:8080/",
          "height": 265
        },
        "id": "Gm7aCBmMKb4A",
        "outputId": "94a33e78-8fd8-476c-f4cd-3ac648367f62"
      },
      "outputs": [
        {
          "output_type": "display_data",
          "data": {
            "text/plain": [
              "<Figure size 432x288 with 1 Axes>"
            ],
            "image/png": "[encoded data removed]"
          },
          "metadata": {
            "needs_background": "light"
          }
        }
      ],
      "source": [
        "# view distribution page actions\n",
        "df_data_3_sample_pd.page.value_counts().sort_values(ascending=True).plot(kind='barh', color='blue');"
      ]
    },
    {
      "cell_type": "markdown",
      "source": [
        "## Feature Engineering And Further Data Exploration"
      ],
      "metadata": {
        "id": "6oXyaKr7eZzI"
      }
    },
    {
      "cell_type": "code",
      "execution_count": 39,
      "metadata": {
        "id": "tqlJt6cRKb4A"
      },
      "outputs": [],
      "source": [
        "# create churn column\n",
        "def_churn = udf(lambda x: 1 if x == 'Cancellation Confirmation' else 0, IntegerType())\n",
        "df_data_4 = df_data_3.withColumn('churn', def_churn(df_data_3.page))"
      ]
    },
    {
      "cell_type": "code",
      "execution_count": 40,
      "metadata": {
        "id": "dhKboDg-Kb4A"
      },
      "outputs": [],
      "source": [
        "# create window to map users who have cancelled\n",
        "windowval = Window.partitionBy('userId')\n",
        "df_data_5 = df_data_4.withColumn('churn_ind', Fmax('churn').over(windowval))"
      ]
    },
    {
      "cell_type": "code",
      "execution_count": 41,
      "metadata": {
        "colab": {
          "base_uri": "https://localhost:8080/"
        },
        "id": "jVTon_bnKb4B",
        "outputId": "66f2bfbe-7c6f-4ecb-f406-8839e84ea593"
      },
      "outputs": [
        {
          "output_type": "stream",
          "name": "stdout",
          "text": [
            "+---------------+-----+---------+-------------+\n",
            "|           page|churn|churn_ind|           ts|\n",
            "+---------------+-----+---------+-------------+\n",
            "|Add to Playlist|    0|        0|1542265610000|\n",
            "|       NextSong|    0|        0|1542265592000|\n",
            "|    Roll Advert|    0|        0|1542265262000|\n",
            "|       NextSong|    0|        0|1542265244000|\n",
            "|    Roll Advert|    0|        0|1542265064000|\n",
            "|       NextSong|    0|        0|1542265046000|\n",
            "|       NextSong|    0|        0|1542264493000|\n",
            "|           Home|    0|        0|1542264481000|\n",
            "|    Roll Advert|    0|        0|1540232239000|\n",
            "|       NextSong|    0|        0|1540232189000|\n",
            "|       NextSong|    0|        0|1540231988000|\n",
            "|       NextSong|    0|        0|1540231833000|\n",
            "|       NextSong|    0|        0|1540231522000|\n",
            "|       NextSong|    0|        0|1540231332000|\n",
            "|       NextSong|    0|        0|1540231011000|\n",
            "|       NextSong|    0|        0|1540230877000|\n",
            "|           Help|    0|        0|1540230751000|\n",
            "|           Help|    0|        0|1540230747000|\n",
            "|       Settings|    0|        0|1540230724000|\n",
            "|       Settings|    0|        0|1540230706000|\n",
            "+---------------+-----+---------+-------------+\n",
            "only showing top 20 rows\n",
            "\n"
          ]
        }
      ],
      "source": [
        "# view data\n",
        "df_data_5.where(df_data_5.userId == '125').select(['page','churn','churn_ind', 'ts']).sort(asc('churn_ind')).show()"
      ]
    },
    {
      "cell_type": "code",
      "execution_count": 42,
      "metadata": {
        "colab": {
          "base_uri": "https://localhost:8080/"
        },
        "id": "vZ0IQSIZKb4B",
        "outputId": "770d8ffc-044b-41c1-e46a-a92aa690baf3"
      },
      "outputs": [
        {
          "output_type": "stream",
          "name": "stdout",
          "text": [
            "+---------+------------------+\n",
            "|churn_ind|       avg(length)|\n",
            "+---------+------------------+\n",
            "|        0|248.58486352452653|\n",
            "|        1|248.99398360601577|\n",
            "+---------+------------------+\n",
            "\n"
          ]
        }
      ],
      "source": [
        "# average length by churn\n",
        "df_data_5.groupBy('churn_ind').agg(avg('length')).show()"
      ]
    },
    {
      "cell_type": "code",
      "execution_count": 43,
      "metadata": {
        "colab": {
          "base_uri": "https://localhost:8080/"
        },
        "id": "XcNVhz8uKb4B",
        "outputId": "a2001e3f-c6c4-411e-dd6a-76d7a81bdae7"
      },
      "outputs": [
        {
          "output_type": "stream",
          "name": "stdout",
          "text": [
            "+---------+------+\n",
            "|churn_ind| count|\n",
            "+---------+------+\n",
            "|        0|348518|\n",
            "|        1| 84359|\n",
            "+---------+------+\n",
            "\n"
          ]
        }
      ],
      "source": [
        "# total row count by churn\n",
        "df_data_5.filter(df_data_5.page == 'NextSong').groupBy('churn_ind').count().show()"
      ]
    },
    {
      "cell_type": "code",
      "execution_count": 44,
      "metadata": {
        "colab": {
          "base_uri": "https://localhost:8080/",
          "height": 206
        },
        "id": "8P88g2vXKb4B",
        "outputId": "4a0bbc9d-e1b8-41b7-f6d1-f95ec8524684"
      },
      "outputs": [
        {
          "output_type": "execute_result",
          "data": {
            "text/plain": [
              "   churn_ind             page     count\n",
              "0          0    Save Settings  0.001133\n",
              "1          1        Thumbs Up  0.041487\n",
              "2          1       Add Friend  0.014829\n",
              "3          1  Add to Playlist  0.021795\n",
              "4          0         Settings  0.005526"
            ],
            "text/html": [
              "\n",
              "  <div id=\"df-ce2becc8-85ca-4a34-8012-622052864ede\">\n",
              "    <div class=\"colab-df-container\">\n",
              "      <div>\n",
              "<style scoped>\n",
              "    .dataframe tbody tr th:only-of-type {\n",
              "        vertical-align: middle;\n",
              "    }\n",
              "\n",
              "    .dataframe tbody tr th {\n",
              "        vertical-align: top;\n",
              "    }\n",
              "\n",
              "    .dataframe thead th {\n",
              "        text-align: right;\n",
              "    }\n",
              "</style>\n",
              "<table border=\"1\" class=\"dataframe\">\n",
              "  <thead>\n",
              "    <tr style=\"text-align: right;\">\n",
              "      <th></th>\n",
              "      <th>churn_ind</th>\n",
              "      <th>page</th>\n",
              "      <th>count</th>\n",
              "    </tr>\n",
              "  </thead>\n",
              "  <tbody>\n",
              "    <tr>\n",
              "      <th>0</th>\n",
              "      <td>0</td>\n",
              "      <td>Save Settings</td>\n",
              "      <td>0.001133</td>\n",
              "    </tr>\n",
              "    <tr>\n",
              "      <th>1</th>\n",
              "      <td>1</td>\n",
              "      <td>Thumbs Up</td>\n",
              "      <td>0.041487</td>\n",
              "    </tr>\n",
              "    <tr>\n",
              "      <th>2</th>\n",
              "      <td>1</td>\n",
              "      <td>Add Friend</td>\n",
              "      <td>0.014829</td>\n",
              "    </tr>\n",
              "    <tr>\n",
              "      <th>3</th>\n",
              "      <td>1</td>\n",
              "      <td>Add to Playlist</td>\n",
              "      <td>0.021795</td>\n",
              "    </tr>\n",
              "    <tr>\n",
              "      <th>4</th>\n",
              "      <td>0</td>\n",
              "      <td>Settings</td>\n",
              "      <td>0.005526</td>\n",
              "    </tr>\n",
              "  </tbody>\n",
              "</table>\n",
              "</div>\n",
              "      <button class=\"colab-df-convert\" onclick=\"convertToInteractive('df-ce2becc8-85ca-4a34-8012-622052864ede')\"\n",
              "              title=\"Convert this dataframe to an interactive table.\"\n",
              "              style=\"display:none;\">\n",
              "        \n",
              "  <svg xmlns=\"http://www.w3.org/2000/svg\" height=\"24px\"viewBox=\"0 0 24 24\"\n",
              "       width=\"24px\">\n",
              "    <path d=\"M0 0h24v24H0V0z\" fill=\"none\"/>\n",
              "    <path d=\"M18.56 5.44l.94 2.06.94-2.06 2.06-.94-2.06-.94-.94-2.06-.94 2.06-2.06.94zm-11 1L8.5 8.5l.94-2.06 2.06-.94-2.06-.94L8.5 2.5l-.94 2.06-2.06.94zm10 10l.94 2.06.94-2.06 2.06-.94-2.06-.94-.94-2.06-.94 2.06-2.06.94z\"/><path d=\"M17.41 7.96l-1.37-1.37c-.4-.4-.92-.59-1.43-.59-.52 0-1.04.2-1.43.59L10.3 9.45l-7.72 7.72c-.78.78-.78 2.05 0 2.83L4 21.41c.39.39.9.59 1.41.59.51 0 1.02-.2 1.41-.59l7.78-7.78 2.81-2.81c.8-.78.8-2.07 0-2.86zM5.41 20L4 18.59l7.72-7.72 1.47 1.35L5.41 20z\"/>\n",
              "  </svg>\n",
              "      </button>\n",
              "      \n",
              "  <style>\n",
              "    .colab-df-container {\n",
              "      display:flex;\n",
              "      flex-wrap:wrap;\n",
              "      gap: 12px;\n",
              "    }\n",
              "\n",
              "    .colab-df-convert {\n",
              "      background-color: #E8F0FE;\n",
              "      border: none;\n",
              "      border-radius: 50%;\n",
              "      cursor: pointer;\n",
              "      display: none;\n",
              "      fill: #1967D2;\n",
              "      height: 32px;\n",
              "      padding: 0 0 0 0;\n",
              "      width: 32px;\n",
              "    }\n",
              "\n",
              "    .colab-df-convert:hover {\n",
              "      background-color: #E2EBFA;\n",
              "      box-shadow: 0px 1px 2px rgba(60, 64, 67, 0.3), 0px 1px 3px 1px rgba(60, 64, 67, 0.15);\n",
              "      fill: #174EA6;\n",
              "    }\n",
              "\n",
              "    [theme=dark] .colab-df-convert {\n",
              "      background-color: #3B4455;\n",
              "      fill: #D2E3FC;\n",
              "    }\n",
              "\n",
              "    [theme=dark] .colab-df-convert:hover {\n",
              "      background-color: #434B5C;\n",
              "      box-shadow: 0px 1px 3px 1px rgba(0, 0, 0, 0.15);\n",
              "      filter: drop-shadow(0px 1px 2px rgba(0, 0, 0, 0.3));\n",
              "      fill: #FFFFFF;\n",
              "    }\n",
              "  </style>\n",
              "\n",
              "      <script>\n",
              "        const buttonEl =\n",
              "          document.querySelector('#df-ce2becc8-85ca-4a34-8012-622052864ede button.colab-df-convert');\n",
              "        buttonEl.style.display =\n",
              "          google.colab.kernel.accessAllowed ? 'block' : 'none';\n",
              "\n",
              "        async function convertToInteractive(key) {\n",
              "          const element = document.querySelector('#df-ce2becc8-85ca-4a34-8012-622052864ede');\n",
              "          const dataTable =\n",
              "            await google.colab.kernel.invokeFunction('convertToInteractive',\n",
              "                                                     [key], {});\n",
              "          if (!dataTable) return;\n",
              "\n",
              "          const docLinkHtml = 'Like what you see? Visit the ' +\n",
              "            '<a target=\"_blank\" href=https://colab.research.google.com/notebooks/data_table.ipynb>data table notebook</a>'\n",
              "            + ' to learn more about interactive tables.';\n",
              "          element.innerHTML = '';\n",
              "          dataTable['output_type'] = 'display_data';\n",
              "          await google.colab.output.renderOutput(dataTable, element);\n",
              "          const docLink = document.createElement('div');\n",
              "          docLink.innerHTML = docLinkHtml;\n",
              "          element.appendChild(docLink);\n",
              "        }\n",
              "      </script>\n",
              "    </div>\n",
              "  </div>\n",
              "  "
            ]
          },
          "metadata": {},
          "execution_count": 44
        }
      ],
      "source": [
        "# count of each churn row\n",
        "user_actions_count = df_data_5.groupBy('churn_ind').count().toPandas()\n",
        "\n",
        "# count of each page action by churn group\n",
        "user_page_actions_count = df_data_5.groupBy(['churn_ind', 'page']).count().toPandas()\n",
        "\n",
        "# normalise user action count by the total number of user actions\n",
        "user_actions_normalised = user_page_actions_count.copy()\n",
        "churn_mask_0 = user_actions_normalised.churn_ind==0\n",
        "user_actions_normalised.loc[churn_mask_0,'count'] = \\\n",
        "                        user_actions_normalised[churn_mask_0]['count']\\\n",
        "                        / user_actions_count.loc[0]['count']\n",
        "\n",
        "churn_mask_1 = user_actions_normalised.churn_ind==1\n",
        "user_actions_normalised.loc[churn_mask_1,'count'] = \\\n",
        "                        user_actions_normalised[churn_mask_1]['count']\\\n",
        "                        / user_actions_count.loc[1]['count']\n",
        "\n",
        "user_actions_normalised.head()"
      ]
    },
    {
      "cell_type": "code",
      "execution_count": 45,
      "metadata": {
        "colab": {
          "base_uri": "https://localhost:8080/",
          "height": 499
        },
        "id": "UXFqHr85Kb4B",
        "outputId": "a51f5e51-b13e-4108-8f24-6b3cdaf0c98e"
      },
      "outputs": [
        {
          "output_type": "display_data",
          "data": {
            "text/plain": [
              "<Figure size 864x576 with 1 Axes>"
            ],
            "image/png": "[encoded data removed]"
          },
          "metadata": {
            "needs_background": "light"
          }
        }
      ],
      "source": [
        "# plot relative page visit frequency\n",
        "plt.figure(figsize=(12,8))\n",
        "sns.barplot(data=user_actions_normalised, y='page', x='count', hue='churn_ind')\n",
        "plt.title('Page Visit Relative Frequency')\n",
        "plt.xlim(0.75,0.85)\n",
        "plt.legend(title='churn user')\n",
        "plt.xlabel('');"
      ]
    },
    {
      "cell_type": "markdown",
      "metadata": {
        "id": "WmIv1uUGKb4B"
      },
      "source": [
        "- Users who cancel spend less time relatively listening to songs"
      ]
    },
    {
      "cell_type": "code",
      "execution_count": 46,
      "metadata": {
        "colab": {
          "base_uri": "https://localhost:8080/",
          "height": 499
        },
        "id": "sN_dkR5BKb4B",
        "outputId": "2048a0f1-d86b-4c4a-efdd-7e176e64742b"
      },
      "outputs": [
        {
          "output_type": "display_data",
          "data": {
            "text/plain": [
              "<Figure size 864x576 with 1 Axes>"
            ],
            "image/png": "[encoded data removed]"
          },
          "metadata": {
            "needs_background": "light"
          }
        }
      ],
      "source": [
        "# plot relative page visit frequency\n",
        "plt.figure(figsize=(12,8))\n",
        "sns.barplot(data=user_actions_normalised, y='page', x='count', hue='churn_ind')\n",
        "plt.title('Page Visit Relative Frequency')\n",
        "plt.xlim(0,0.05)\n",
        "plt.legend(title='churn user')\n",
        "plt.xlabel('');"
      ]
    },
    {
      "cell_type": "markdown",
      "metadata": {
        "id": "GV4WS775Kb4B"
      },
      "source": [
        "- Churn Users:\n",
        "    - Thumbs down, Logout, Roll Adverts more often than users who don't churn\n",
        "    - Thumbs up, Add Friend less often than users who don't churn\n",
        "    "
      ]
    },
    {
      "cell_type": "code",
      "execution_count": 75,
      "metadata": {
        "id": "NRsY4SgNKb4C"
      },
      "outputs": [],
      "source": [
        "df_data_5.createOrReplaceTempView(\"df\")\n",
        "\n",
        "# create churn indicator over the final week\n",
        "df_data_6 = spark.sql(\n",
        "    \"\"\"SELECT *, SUM(churn) OVER (\n",
        "        PARTITION BY userId \n",
        "        ORDER BY CAST(time AS timestamp) \n",
        "        RANGE BETWEEN INTERVAL 7 DAYS PRECEDING AND CURRENT ROW\n",
        "     ) AS final_week_churn_ind FROM df\"\"\")"
      ]
    },
    {
      "cell_type": "code",
      "execution_count": 76,
      "metadata": {
        "id": "D3KeO0RrKb4C"
      },
      "outputs": [],
      "source": [
        "# convert to pandas for further analysis\n",
        "df_data_6_pd = df_data_6.toPandas()"
      ]
    },
    {
      "cell_type": "code",
      "execution_count": 77,
      "metadata": {
        "id": "4i5RnTFQKb4C"
      },
      "outputs": [],
      "source": [
        "# count user actions by page in final week before cancellation\n",
        "user_page_actions_final_week = df_data_6_pd.groupby(['final_week_churn_ind','page']).count()['auth'].reset_index()\n",
        "# count total user actions in final week before cancellation\n",
        "user_count_final_week = df_data_6_pd.groupby(['final_week_churn_ind'])['page'].count()\n",
        "user_page_actions_final_week.rename(columns={'auth': 'count'}, inplace=True)"
      ]
    },
    {
      "cell_type": "code",
      "execution_count": 78,
      "metadata": {
        "id": "FZC9_fbiKb4C"
      },
      "outputs": [],
      "source": [
        "# normalise user action count by the total number of user actions\n",
        "user_actions_normalised_fw = user_page_actions_final_week.copy()\n",
        "churn_mask_0 = user_actions_normalised_fw.final_week_churn_ind==0\n",
        "user_actions_normalised_fw.loc[churn_mask_0,'count'] = \\\n",
        "                        user_actions_normalised_fw[churn_mask_0]['count']\\\n",
        "                        / user_count_final_week.loc[0]\n",
        "\n",
        "churn_mask_1 = user_actions_normalised_fw.final_week_churn_ind==1\n",
        "user_actions_normalised_fw.loc[churn_mask_1,'count'] = \\\n",
        "                        user_actions_normalised_fw[churn_mask_1]['count']\\\n",
        "                        / user_count_final_week.loc[1]"
      ]
    },
    {
      "cell_type": "code",
      "execution_count": 483,
      "metadata": {
        "colab": {
          "base_uri": "https://localhost:8080/",
          "height": 499
        },
        "id": "JA_AMLi_Kb4C",
        "outputId": "13efc0cf-49c6-47b1-f097-b043847de691"
      },
      "outputs": [
        {
          "output_type": "display_data",
          "data": {
            "text/plain": [
              "<Figure size 864x576 with 1 Axes>"
            ],
            "image/png": "[encoded data removed]"
          },
          "metadata": {
            "needs_background": "light"
          }
        }
      ],
      "source": [
        "# plot relative page visit frequency during the week before cancellation\n",
        "plt.figure(figsize=(12,8))\n",
        "sns.barplot(data=user_actions_normalised_fw, y='page', x='count', hue='final_week_churn_ind')\n",
        "plt.xlim(0.75,0.85)\n",
        "plt.title('Page Visit Relative Frequency - Week Before Cancellation')\n",
        "plt.legend(title='churn user')\n",
        "plt.xlabel('');"
      ]
    },
    {
      "cell_type": "markdown",
      "metadata": {
        "id": "euUP4kWzKb4C"
      },
      "source": [
        "- The same trend as before is observed: Users who cancel listen to fewer songs\n",
        "- However, this difference is even greater in the final week."
      ]
    },
    {
      "cell_type": "code",
      "execution_count": 482,
      "metadata": {
        "colab": {
          "base_uri": "https://localhost:8080/",
          "height": 499
        },
        "id": "uADitcGPKb4C",
        "outputId": "0c9451a1-89e5-41c7-8c17-f64308b7c208"
      },
      "outputs": [
        {
          "output_type": "display_data",
          "data": {
            "text/plain": [
              "<Figure size 864x576 with 1 Axes>"
            ],
            "image/png": "[encoded data removed]"
          },
          "metadata": {
            "needs_background": "light"
          }
        }
      ],
      "source": [
        "# plot relative page visit frequency during the week before cancellation\n",
        "plt.figure(figsize=(12,8))\n",
        "sns.barplot(data=user_actions_normalised_fw, y='page', x='count', hue='final_week_churn_ind')\n",
        "plt.xlim(0,0.05)\n",
        "plt.title('Page Visit Relative Frequency - Week Before Cancellation')\n",
        "plt.legend(title='churn user')\n",
        "plt.xlabel('');"
      ]
    },
    {
      "cell_type": "markdown",
      "metadata": {
        "id": "3vHu08VWKb4C"
      },
      "source": [
        "- The same trends as before are observed i.e.\n",
        "    - Churn Users:\n",
        "        - Thumbs down, Logout, Roll Adverts more often than users who don't churn\n",
        "        - Thumbs up, Add Friend less often than users who don't churn\n",
        "- However, Churn Users in the final week also visit:\n",
        "    - Downgrade and Settings pages more frequently.\n",
        "    "
      ]
    },
    {
      "cell_type": "markdown",
      "source": [
        "#### Lets look at some of these individual variable trends for the more frequently used page actions."
      ],
      "metadata": {
        "id": "Oovg9bqMbXB0"
      }
    },
    {
      "cell_type": "code",
      "source": [
        "users_pageAction_count = df_data_6.groupby(['userId', 'churn_ind','page']).agg(count('page')).sort('userId').toPandas()"
      ],
      "metadata": {
        "id": "_2ANX6vrdIYf"
      },
      "execution_count": 149,
      "outputs": []
    },
    {
      "cell_type": "code",
      "source": [
        "sns.barplot(data=users_pageAction_count.query('page==\"Add Friend\"'), x='churn_ind', y='count(page)', color=base_colour)\n",
        "plt.title('Average Add Friend Count by Churn User');"
      ],
      "metadata": {
        "colab": {
          "base_uri": "https://localhost:8080/",
          "height": 296
        },
        "id": "WMrxneZCh5Ft",
        "outputId": "008fc67c-d2bb-4777-a1c0-086c16ea96f0"
      },
      "execution_count": 188,
      "outputs": [
        {
          "output_type": "display_data",
          "data": {
            "text/plain": [
              "<Figure size 432x288 with 1 Axes>"
            ],
            "image/png": "[encoded data removed]"
          },
          "metadata": {
            "needs_background": "light"
          }
        }
      ]
    },
    {
      "cell_type": "markdown",
      "source": [
        "Non-churn users add more friends than churn users."
      ],
      "metadata": {
        "id": "ZNU-7C_liUnk"
      }
    },
    {
      "cell_type": "code",
      "source": [
        "sns.barplot(data=users_pageAction_count.query('page==\"Add to Playlist\"'), x='churn_ind', y='count(page)', color=base_colour)\n",
        "plt.title('Average Add to Playlist Count by Churn User');"
      ],
      "metadata": {
        "colab": {
          "base_uri": "https://localhost:8080/",
          "height": 296
        },
        "outputId": "11afbb90-f0c9-422b-ef48-8184c67fefda",
        "id": "65pX4q7oicCX"
      },
      "execution_count": 187,
      "outputs": [
        {
          "output_type": "display_data",
          "data": {
            "text/plain": [
              "<Figure size 432x288 with 1 Axes>"
            ],
            "image/png": "[encoded data removed]"
          },
          "metadata": {
            "needs_background": "light"
          }
        }
      ]
    },
    {
      "cell_type": "markdown",
      "source": [
        "Non-churn users add songs to playlists more than churn users"
      ],
      "metadata": {
        "id": "r0ZYMd42izL7"
      }
    },
    {
      "cell_type": "code",
      "source": [
        "sns.barplot(data=users_pageAction_count.query('page==\"Downgrade\"'), x='churn_ind', y='count(page)', color=base_colour);"
      ],
      "metadata": {
        "colab": {
          "base_uri": "https://localhost:8080/",
          "height": 280
        },
        "id": "J4bofnddlT8I",
        "outputId": "40a12087-4175-4810-ef46-31c464ba7edd"
      },
      "execution_count": 171,
      "outputs": [
        {
          "output_type": "display_data",
          "data": {
            "text/plain": [
              "<Figure size 432x288 with 1 Axes>"
            ],
            "image/png": "[encoded data removed]"
          },
          "metadata": {
            "needs_background": "light"
          }
        }
      ]
    },
    {
      "cell_type": "markdown",
      "source": [
        "Not much difference seen here"
      ],
      "metadata": {
        "id": "-4vku253lZUx"
      }
    },
    {
      "cell_type": "code",
      "source": [
        "sns.barplot(data=users_pageAction_count.query('page==\"Home\"'), x='churn_ind', y='count(page)', color=base_colour)\n",
        "plt.title('Average Home Count by Churn User');"
      ],
      "metadata": {
        "colab": {
          "base_uri": "https://localhost:8080/",
          "height": 296
        },
        "id": "-FeJiLKxnz7W",
        "outputId": "031cd19e-6144-4433-82ac-5699c83bc284"
      },
      "execution_count": 189,
      "outputs": [
        {
          "output_type": "display_data",
          "data": {
            "text/plain": [
              "<Figure size 432x288 with 1 Axes>"
            ],
            "image/png": "[encoded data removed]"
          },
          "metadata": {
            "needs_background": "light"
          }
        }
      ]
    },
    {
      "cell_type": "markdown",
      "source": [
        "Non-churn users use the home button slightly more than churn users."
      ],
      "metadata": {
        "id": "O9Yeac4fn-G0"
      }
    },
    {
      "cell_type": "code",
      "source": [
        "sns.barplot(data=users_pageAction_count.query('page==\"Logout\"'), x='churn_ind', y='count(page)', color=base_colour)\n",
        "plt.title('Average Logout Count by Churn User');"
      ],
      "metadata": {
        "colab": {
          "base_uri": "https://localhost:8080/",
          "height": 296
        },
        "id": "9EnW0sNvn51F",
        "outputId": "55fbd49d-dbbd-43db-e2da-5f831d68de0a"
      },
      "execution_count": 191,
      "outputs": [
        {
          "output_type": "display_data",
          "data": {
            "text/plain": [
              "<Figure size 432x288 with 1 Axes>"
            ],
            "image/png": "[encoded data removed]"
          },
          "metadata": {
            "needs_background": "light"
          }
        }
      ]
    },
    {
      "cell_type": "markdown",
      "source": [
        "Non-churn users use the logout button slightly more than churn users."
      ],
      "metadata": {
        "id": "RSFJBSURoIgo"
      }
    },
    {
      "cell_type": "code",
      "source": [
        "sns.barplot(data=users_pageAction_count.query('page==\"NextSong\"'), x='churn_ind', y='count(page)', color=base_colour)\n",
        "plt.title('Average Next Song Count by Churn User');"
      ],
      "metadata": {
        "colab": {
          "base_uri": "https://localhost:8080/",
          "height": 296
        },
        "id": "mcRJJmKcmGRb",
        "outputId": "ee4087fb-bd12-4450-ce39-24b30c4dc542"
      },
      "execution_count": 186,
      "outputs": [
        {
          "output_type": "display_data",
          "data": {
            "text/plain": [
              "<Figure size 432x288 with 1 Axes>"
            ],
            "image/png": "[encoded data removed]"
          },
          "metadata": {
            "needs_background": "light"
          }
        }
      ]
    },
    {
      "cell_type": "markdown",
      "source": [
        "Churn users listen to fewer songs than non-churn users."
      ],
      "metadata": {
        "id": "dkJTD_G-mOtI"
      }
    },
    {
      "cell_type": "code",
      "source": [
        "sns.barplot(data=users_pageAction_count.query('page==\"Roll Advert\"'), x='churn_ind', y='count(page)', color=base_colour)\n",
        "plt.title('Average Roll Advert Count by Churn User');"
      ],
      "metadata": {
        "colab": {
          "base_uri": "https://localhost:8080/",
          "height": 296
        },
        "id": "RChkJkldmY2K",
        "outputId": "6fac7fb7-da65-421e-c01b-76d26c425686"
      },
      "execution_count": 185,
      "outputs": [
        {
          "output_type": "display_data",
          "data": {
            "text/plain": [
              "<Figure size 432x288 with 1 Axes>"
            ],
            "image/png": "[encoded data removed]"
          },
          "metadata": {
            "needs_background": "light"
          }
        }
      ]
    },
    {
      "cell_type": "markdown",
      "source": [
        "Churn users roll adverts much more than non-churn users."
      ],
      "metadata": {
        "id": "JPHLzOSOmb-i"
      }
    },
    {
      "cell_type": "code",
      "source": [
        "sns.barplot(data=users_pageAction_count.query('page==\"Settings\"'), x='churn_ind', y='count(page)', color=base_colour)\n",
        "plt.title('Average Settings Count by Churn User');"
      ],
      "metadata": {
        "colab": {
          "base_uri": "https://localhost:8080/",
          "height": 296
        },
        "id": "FnBjB7yfoR4S",
        "outputId": "96b0b403-9353-4f6c-ff08-6f2546cc0fc2"
      },
      "execution_count": 192,
      "outputs": [
        {
          "output_type": "display_data",
          "data": {
            "text/plain": [
              "<Figure size 432x288 with 1 Axes>"
            ],
            "image/png": "[encoded data removed]"
          },
          "metadata": {
            "needs_background": "light"
          }
        }
      ]
    },
    {
      "cell_type": "code",
      "source": [
        "sns.barplot(data=users_pageAction_count.query('page==\"Thumbs Down\"'), x='churn_ind', y='count(page)', color=base_colour)\n",
        "plt.title('Average Thumbs Down Count by Churn User');"
      ],
      "metadata": {
        "colab": {
          "base_uri": "https://localhost:8080/",
          "height": 296
        },
        "id": "Z1vEWGDMmtqO",
        "outputId": "525a1e50-314d-468b-fbb0-f7797e1bad56"
      },
      "execution_count": 183,
      "outputs": [
        {
          "output_type": "display_data",
          "data": {
            "text/plain": [
              "<Figure size 432x288 with 1 Axes>"
            ],
            "image/png": "[encoded data removed]"
          },
          "metadata": {
            "needs_background": "light"
          }
        }
      ]
    },
    {
      "cell_type": "code",
      "source": [
        "sns.barplot(data=users_pageAction_count.query('page==\"Thumbs Up\"'), x='churn_ind', y='count(page)', color=base_colour)\n",
        "plt.title('Average Thumbs Up Count by Churn User');"
      ],
      "metadata": {
        "colab": {
          "base_uri": "https://localhost:8080/",
          "height": 296
        },
        "id": "SrCxSmNFm6u7",
        "outputId": "cfea34fd-4547-4bf2-fd58-ed80eb96646b"
      },
      "execution_count": 184,
      "outputs": [
        {
          "output_type": "display_data",
          "data": {
            "text/plain": [
              "<Figure size 432x288 with 1 Axes>"
            ],
            "image/png": "[encoded data removed]"
          },
          "metadata": {
            "needs_background": "light"
          }
        }
      ]
    },
    {
      "cell_type": "markdown",
      "source": [
        "Churn users give more thumbs downs and fewer thumbs ups than non-churn users."
      ],
      "metadata": {
        "id": "F72DJgzpm3Oa"
      }
    },
    {
      "cell_type": "code",
      "source": [
        "gender_churn = df_data_6.select('userId', 'gender', 'churn_ind').dropDuplicates().groupby('gender').agg(avg('churn_ind'))\n",
        "gender_churn.show()"
      ],
      "metadata": {
        "colab": {
          "base_uri": "https://localhost:8080/"
        },
        "id": "tquxSdoZtD-q",
        "outputId": "448ec18e-cc73-402a-f859-c411cb90d00c"
      },
      "execution_count": 53,
      "outputs": [
        {
          "output_type": "stream",
          "name": "stdout",
          "text": [
            "+------+-------------------+\n",
            "|gender|     avg(churn_ind)|\n",
            "+------+-------------------+\n",
            "|     F|0.22727272727272727|\n",
            "|     M|              0.216|\n",
            "+------+-------------------+\n",
            "\n"
          ]
        }
      ]
    },
    {
      "cell_type": "code",
      "source": [
        "# define base colour\n",
        "base_colour = sns.color_palette()[0]"
      ],
      "metadata": {
        "id": "8DLJOzSVdeYy"
      },
      "execution_count": 54,
      "outputs": []
    },
    {
      "cell_type": "code",
      "source": [
        "# display average churn by gender\n",
        "gender_churn = df_data_6.select('userId', 'gender', 'churn_ind').dropDuplicates().groupby('gender').agg(avg('churn_ind'))\n",
        "gender_churn_pd = gender_churn.toPandas()\n",
        "sns.barplot(x='gender', y='avg(churn_ind)', data=gender_churn_pd, color=base_colour)\n",
        "plt.title('Average Number of Churn Users by Gender')\n",
        "plt.ylabel('');"
      ],
      "metadata": {
        "colab": {
          "base_uri": "https://localhost:8080/",
          "height": 295
        },
        "id": "Mrctl0oVtEKF",
        "outputId": "634ebb92-ee71-4a43-b910-c01491dcbf5a"
      },
      "execution_count": 55,
      "outputs": [
        {
          "output_type": "display_data",
          "data": {
            "text/plain": [
              "<Figure size 432x288 with 1 Axes>"
            ],
            "image/png": "[encoded data removed]"
          },
          "metadata": {
            "needs_background": "light"
          }
        }
      ]
    },
    {
      "cell_type": "code",
      "source": [
        "avg_iIS_churn = df_data_6.groupby('churn_ind').agg(avg('itemInSession'))\n",
        "avg_iIS_churn.show()"
      ],
      "metadata": {
        "colab": {
          "base_uri": "https://localhost:8080/"
        },
        "id": "GijQKNsqtNtG",
        "outputId": "b278af3f-f8b6-4df4-b4e3-f8de018d68df"
      },
      "execution_count": 56,
      "outputs": [
        {
          "output_type": "stream",
          "name": "stdout",
          "text": [
            "+---------+------------------+\n",
            "|churn_ind|avg(itemInSession)|\n",
            "+---------+------------------+\n",
            "|        0|107.84486484321059|\n",
            "|        1| 107.5093008895664|\n",
            "+---------+------------------+\n",
            "\n"
          ]
        }
      ]
    },
    {
      "cell_type": "code",
      "source": [
        "# display average churn by level type\n",
        "level_churn = df_data_6.select('userId', 'level', 'churn_ind').dropDuplicates().groupby('level').agg(avg('churn_ind'))\n",
        "level_churn_pd = level_churn.toPandas()\n",
        "sns.barplot(x='level', y='avg(churn_ind)', data=level_churn_pd, color=base_colour)\n",
        "plt.title('Average Number of Churn Users by Subscription Level')\n",
        "plt.ylabel('');"
      ],
      "metadata": {
        "colab": {
          "base_uri": "https://localhost:8080/",
          "height": 295
        },
        "id": "i4lbFINkR5hh",
        "outputId": "1a7fec14-f5d1-43ce-9cb8-4f8512490613"
      },
      "execution_count": 57,
      "outputs": [
        {
          "output_type": "display_data",
          "data": {
            "text/plain": [
              "<Figure size 432x288 with 1 Axes>"
            ],
            "image/png": "[encoded data removed]"
          },
          "metadata": {
            "needs_background": "light"
          }
        }
      ]
    },
    {
      "cell_type": "markdown",
      "source": [
        "\n",
        "\n",
        "*   Paid users are more likely to churn. This makes sense, given they pay for the service.\n",
        "*   Female users are more likely to churn.\n",
        "*   No difference in the item in session counts between churn and non-churn users\n",
        "\n"
      ],
      "metadata": {
        "id": "JjgWsfwnRIeL"
      }
    },
    {
      "cell_type": "code",
      "source": [
        "df_data_6.createOrReplaceTempView(\"df\")\n",
        "\n",
        "# create item in session interaction with page\n",
        "df_data_7 = spark.sql(\n",
        "    \"\"\"SELECT *,\n",
        "    time - registration_time as registration_length\n",
        "    FROM df\n",
        "     \"\"\")\n",
        "\n",
        "# create registration length table by churn user\n",
        "df_data_7.createOrReplaceTempView(\"df\")\n",
        "\n",
        "df_data_7_1 = spark.sql(\n",
        "    \"\"\"SELECT userId, \n",
        "    max(churn_ind) as churn_ind, \n",
        "    max(registration_length) as registration_length\n",
        "    FROM df\n",
        "    GROUP BY userId\n",
        "     \"\"\")"
      ],
      "metadata": {
        "id": "vV2CQylfnGQW"
      },
      "execution_count": 58,
      "outputs": []
    },
    {
      "cell_type": "code",
      "source": [
        "time_churn = df_data_7_1.groupby('churn_ind').agg(avg('registration_length'))\n",
        "time_churn.show()"
      ],
      "metadata": {
        "colab": {
          "base_uri": "https://localhost:8080/"
        },
        "id": "PokgSEBqnY5S",
        "outputId": "cdd1cd9b-1781-442e-9c26-d8613573fffd"
      },
      "execution_count": 59,
      "outputs": [
        {
          "output_type": "stream",
          "name": "stdout",
          "text": [
            "+---------+------------------------+\n",
            "|churn_ind|avg(registration_length)|\n",
            "+---------+------------------------+\n",
            "|        0|    INTERVAL '86 23:3...|\n",
            "|        1|    INTERVAL '68 00:1...|\n",
            "+---------+------------------------+\n",
            "\n"
          ]
        }
      ]
    },
    {
      "cell_type": "code",
      "source": [
        "# display average registration length by churn user group\n",
        "time_churn = df_data_7_1.groupby('churn_ind').agg(avg('registration_length'))\n",
        "time_churn_pd = time_churn.toPandas()\n",
        "sns.barplot(x=time_churn_pd.churn_ind, y=time_churn_pd['avg(registration_length)'].dt.days, color=base_colour)\n",
        "plt.ylabel('')\n",
        "plt.title('Average Registration Length by Churn User')\n",
        "plt.xlabel('churn user');"
      ],
      "metadata": {
        "colab": {
          "base_uri": "https://localhost:8080/",
          "height": 295
        },
        "id": "gxEIaaqAp2Op",
        "outputId": "5a3768ff-7d5b-4636-d29a-75c2a9b9d909"
      },
      "execution_count": 60,
      "outputs": [
        {
          "output_type": "display_data",
          "data": {
            "text/plain": [
              "<Figure size 432x288 with 1 Axes>"
            ],
            "image/png": "[encoded data removed]"
          },
          "metadata": {
            "needs_background": "light"
          }
        }
      ]
    },
    {
      "cell_type": "markdown",
      "source": [
        "\n",
        "\n",
        "*   Newer users are more likely to cancel than older users\n",
        "\n"
      ],
      "metadata": {
        "id": "tqJOQ_o5rTCi"
      }
    },
    {
      "cell_type": "code",
      "source": [
        "df_data_7.createOrReplaceTempView(\"df\")\n",
        "\n",
        "# create session length variable\n",
        "df_data_7_2 = spark.sql(\n",
        "    \"\"\"SELECT userId,\n",
        "    churn_ind,\n",
        "    sessionId,\n",
        "    (max(ts) - min(ts))/(3600*1000) as session_length\n",
        "    FROM df\n",
        "    GROUP BY userId, churn_ind, sessionId\n",
        "    ORDER BY userId\n",
        "     \"\"\")"
      ],
      "metadata": {
        "id": "6gKLe5_xKffr"
      },
      "execution_count": 409,
      "outputs": []
    },
    {
      "cell_type": "code",
      "source": [
        "df_data_7_2.groupby('churn_ind').agg(avg('session_length')).show()"
      ],
      "metadata": {
        "colab": {
          "base_uri": "https://localhost:8080/"
        },
        "id": "3L3OoaLHLZ-Z",
        "outputId": "50ad1bb8-63f0-429f-ed78-b381fec5a3a2"
      },
      "execution_count": 410,
      "outputs": [
        {
          "output_type": "stream",
          "name": "stdout",
          "text": [
            "+---------+-------------------+\n",
            "|churn_ind|avg(session_length)|\n",
            "+---------+-------------------+\n",
            "|        0|  4.960445821102705|\n",
            "|        1|  4.897831616077221|\n",
            "+---------+-------------------+\n",
            "\n"
          ]
        }
      ]
    },
    {
      "cell_type": "markdown",
      "source": [
        "Not much difference between the two groups"
      ],
      "metadata": {
        "id": "Jw3P64HmvXLx"
      }
    },
    {
      "cell_type": "code",
      "execution_count": 61,
      "metadata": {
        "id": "M4_ZLmQyKb4D"
      },
      "outputs": [],
      "source": [
        "# filter out non null rows\n",
        "df_data_8 = df_data_7.filter(df_data_7.userAgent.isNotNull() & df_data_7.lastName.isNotNull()).dropDuplicates()"
      ]
    },
    {
      "cell_type": "code",
      "execution_count": 62,
      "metadata": {
        "id": "LqfSW1Qh9Biz"
      },
      "outputs": [],
      "source": [
        "# filter for potential features and label columns\n",
        "df_data_9 = df_data_8.select(['userId', 'gender', 'level', 'page', 'ts', 'time', 'registration_length', 'churn', 'churn_ind', 'final_week_churn_ind'])"
      ]
    },
    {
      "cell_type": "code",
      "execution_count": 368,
      "metadata": {
        "id": "UayEvYKrKb4D"
      },
      "outputs": [],
      "source": [
        "# get unique list of pages.\n",
        "unique_pages = list(df_data_9.select('page').dropDuplicates().collect())\n",
        "categories = [page.page for page in unique_pages]\n",
        "\n",
        "# create indicator columns for pages of interest\n",
        "for category in categories:\n",
        "    function = udf(lambda item: 1 if item == category else 0, IntegerType())\n",
        "    new_column_name = 'ind'+'_'+category.replace(' ','_').lower()\n",
        "    df_data_9 = df_data_9.withColumn(new_column_name, function(col('page')))"
      ]
    },
    {
      "cell_type": "code",
      "execution_count": 372,
      "metadata": {
        "id": "k5UlcPQZKb4D"
      },
      "outputs": [],
      "source": [
        "df_data_9.createOrReplaceTempView(\"df\")\n",
        "\n",
        "# create count of page actions by userId\n",
        "df_data_10 = spark.sql(\n",
        "    \"\"\"SELECT \n",
        "    userId,\n",
        "    gender,\n",
        "    level,\n",
        "    time,\n",
        "    ts,\n",
        "    churn_ind,\n",
        "    registration_length,\n",
        "    sum(ind_add_friend) OVER w AS addFriend_cnt,\n",
        "    sum(ind_add_to_playlist) OVER w AS addToPlaylist_cnt,\n",
        "    sum(ind_nextsong) OVER w AS nextSong_cnt,\n",
        "    sum(ind_roll_advert) OVER w AS rollAdvert_cnt,\n",
        "    sum(ind_thumbs_down) OVER w AS thumbsDown_cnt,\n",
        "    sum(ind_thumbs_up) OVER w AS thumbsUp_cnt,\n",
        "    sum(ind_downgrade) OVER w AS downgrade_cnt,\n",
        "    sum(ind_help) OVER w AS help_cnt,\n",
        "    sum(ind_home) OVER w AS home_cnt,\n",
        "    sum(ind_logout) OVER w AS logout_cnt,\n",
        "    sum(ind_settings) OVER w AS settings_cnt\n",
        "    FROM df\n",
        "    WINDOW w AS (\n",
        "        PARTITION BY userId\n",
        "     )\"\"\")"
      ]
    },
    {
      "cell_type": "code",
      "source": [
        "df_data_10.createOrReplaceTempView(\"df\")\n",
        "\n",
        "# collapse down to latest date\n",
        "df_data_11 = spark.sql(\n",
        "    \"\"\"SELECT\n",
        "    a.userId,\n",
        "    gender,\n",
        "    level,\n",
        "    time,\n",
        "    ts,\n",
        "    registration_length,\n",
        "    churn_ind,\n",
        "    addFriend_cnt,\n",
        "    addToPlaylist_cnt,\n",
        "    nextSong_cnt,\n",
        "    rollAdvert_cnt,\n",
        "    thumbsDown_cnt,\n",
        "    thumbsUp_cnt,\n",
        "    downgrade_cnt,\n",
        "    help_cnt,\n",
        "    home_cnt,\n",
        "    logout_cnt,\n",
        "    settings_cnt\n",
        "    FROM df a\n",
        "    INNER JOIN(\n",
        "    SELECT\n",
        "    userId,\n",
        "    max(ts) as max_ts\n",
        "    FROM df\n",
        "    GROUP BY userId) b\n",
        "    ON a.ts = b.max_ts\n",
        "    \"\"\")"
      ],
      "metadata": {
        "id": "t7d5SLk4ZJK8"
      },
      "execution_count": 374,
      "outputs": []
    },
    {
      "cell_type": "code",
      "source": [
        "df_data_11.show()"
      ],
      "metadata": {
        "colab": {
          "base_uri": "https://localhost:8080/"
        },
        "id": "OskWTKZSBi-m",
        "outputId": "186678a6-de13-45f9-da8c-cbe6a201ab22"
      },
      "execution_count": 376,
      "outputs": [
        {
          "output_type": "stream",
          "name": "stdout",
          "text": [
            "+------+------+-----+----------+-------------+-------------------+---------+-------------+-----------------+------------+--------------+--------------+------------+-------------+--------+--------+----------+------------+\n",
            "|userId|gender|level|      time|           ts|registration_length|churn_ind|addFriend_cnt|addToPlaylist_cnt|nextSong_cnt|rollAdvert_cnt|thumbsDown_cnt|thumbsUp_cnt|downgrade_cnt|help_cnt|home_cnt|logout_cnt|settings_cnt|\n",
            "+------+------+-----+----------+-------------+-------------------+---------+-------------+-----------------+------------+--------------+--------------+------------+-------------+--------+--------+----------+------------+\n",
            "|   100|     M| paid|2018-11-30|1543606468000|  INTERVAL '65' DAY|        0|           71|               94|        3382|             8|            37|         143|           40|      17|     135|        36|          17|\n",
            "|100004|     F| free|2018-10-14|1539511980000| INTERVAL '127' DAY|        1|            7|                7|         262|            44|             2|          15|            0|       5|      17|         9|           0|\n",
            "|100005|     M| free|2018-10-06|1538820679000|  INTERVAL '72' DAY|        1|            0|                1|          72|            17|             1|           2|            0|       0|       3|         1|           0|\n",
            "|100006|     F| free|2018-11-30|1543622360000|  INTERVAL '65' DAY|        0|            1|                2|         295|            37|             3|          14|            1|       1|      12|         3|           2|\n",
            "|100007|     F| free|2018-11-29|1543483022000| INTERVAL '115' DAY|        0|           10|               27|         853|            31|             6|          40|           18|       1|      42|        13|           4|\n",
            "|100008|     F| paid|2018-12-01|1543622405000|  INTERVAL '72' DAY|        0|           10|               11|         386|             3|             5|          19|            5|       1|      15|         5|           1|\n",
            "|100009|     M| paid|2018-11-28|1543408478000|  INTERVAL '70' DAY|        0|           42|               69|        2412|           105|            26|         111|           22|      14|     116|        38|          11|\n",
            "|100010|     F| free|2018-10-11|1539254318000|  INTERVAL '14' DAY|        1|            3|                1|          96|            22|             3|           4|            0|       0|       3|         1|           0|\n",
            "|100014|     M| paid|2018-10-21|1540103857000|  INTERVAL '55' DAY|        1|            3|               11|         332|             3|             3|          14|            9|       2|      18|         6|           3|\n",
            "|100015|     F| free|2018-11-30|1543622248000|  INTERVAL '74' DAY|        0|           11|               13|         381|            64|             6|          19|            0|       4|      15|         7|           4|\n",
            "|100020|     M| free|2018-11-19|1542640846000|  INTERVAL '89' DAY|        0|            1|                3|          96|            14|             2|           4|            0|       0|       8|         2|           0|\n",
            "|100021|     M| paid|2018-11-24|1543040641000|  INTERVAL '64' DAY|        0|           16|               14|         683|            34|             8|          28|           13|       2|      33|        10|           4|\n",
            "|100022|     F| paid|2018-11-30|1543596771000|  INTERVAL '66' DAY|        0|           20|               51|        1833|            44|            18|          67|           27|      10|      82|        24|           8|\n",
            "|100025|     F| free|2018-11-06|1541508820000| INTERVAL '103' DAY|        1|           11|               18|         764|             7|             9|          38|           11|       1|      29|         8|           1|\n",
            "|100029|     M| free|2018-11-21|1542824455000|  INTERVAL '55' DAY|        0|            0|                2|         132|            13|             2|           7|            2|       3|      12|         5|           3|\n",
            "|100031|     M| free|2018-11-20|1542726950000| INTERVAL '182' DAY|        0|            6|                3|         249|            37|             2|           9|            0|       3|      19|         9|           0|\n",
            "|100039|     M| free|2018-11-30|1543622263000| INTERVAL '107' DAY|        0|            0|                3|         107|            13|             2|           7|            0|       0|      12|         3|           0|\n",
            "|100040|     M| free|2018-11-05|1541379538000|  INTERVAL '91' DAY|        1|            2|               10|         191|            31|             2|           9|            0|       2|       6|         3|           0|\n",
            "|100041|     M| paid|2018-10-30|1540894923000|  INTERVAL '44' DAY|        1|            3|                3|         123|             1|             2|           9|            2|       1|      13|         1|           1|\n",
            "|100046|     F| paid|2018-11-27|1543283116000| INTERVAL '103' DAY|        0|            2|                8|         487|            40|             5|          24|            3|       2|      38|        15|           8|\n",
            "+------+------+-----+----------+-------------+-------------------+---------+-------------+-----------------+------------+--------------+--------------+------------+-------------+--------+--------+----------+------------+\n",
            "only showing top 20 rows\n",
            "\n"
          ]
        }
      ]
    },
    {
      "cell_type": "code",
      "source": [
        "# count of users after aggregation\n",
        "df_data_11.groupby('churn_ind').count().show()"
      ],
      "metadata": {
        "colab": {
          "base_uri": "https://localhost:8080/"
        },
        "id": "2neT9miqctLd",
        "outputId": "44eec7c3-7754-4ff8-c8ac-e4702a71fe3c"
      },
      "execution_count": 375,
      "outputs": [
        {
          "output_type": "stream",
          "name": "stdout",
          "text": [
            "+---------+-----+\n",
            "|churn_ind|count|\n",
            "+---------+-----+\n",
            "|        0|  384|\n",
            "|        1|  110|\n",
            "+---------+-----+\n",
            "\n"
          ]
        }
      ]
    },
    {
      "cell_type": "code",
      "source": [
        "# create gender indicator column\n",
        "gender_ind = udf(lambda x: 1 if x == 'M' else 0, IntegerType())\n",
        "df_data_12 = df_data_11.withColumn('male_ind', gender_ind(df_data_11.gender))\n",
        "\n",
        "# create user level indicator column\n",
        "level_ind = udf(lambda x: 1 if x == 'Paid' else 0, IntegerType())\n",
        "df_data_13 = df_data_12.withColumn('paid_ind', gender_ind(df_data_12.level))"
      ],
      "metadata": {
        "id": "-P7RS3dEdKlh"
      },
      "execution_count": 377,
      "outputs": []
    },
    {
      "cell_type": "code",
      "execution_count": 378,
      "metadata": {
        "id": "9_Jc1qUoKb4D"
      },
      "outputs": [],
      "source": [
        "# define label column\n",
        "df_data_14 = df_data_13.withColumn('label', col('churn_ind'))"
      ]
    },
    {
      "cell_type": "code",
      "source": [
        "# convert timedelta object to days\n",
        "td_to_hours = udf(lambda x: x / datetime.timedelta(hours=1), FloatType())\n",
        "df_data_15 = df_data_14.withColumn('registration_length_hours', td_to_hours(df_data_14.registration_length))"
      ],
      "metadata": {
        "id": "yefksHUG6Uvu"
      },
      "execution_count": 379,
      "outputs": []
    },
    {
      "cell_type": "markdown",
      "source": [
        "## Modelling"
      ],
      "metadata": {
        "id": "35Vi535cemhn"
      }
    },
    {
      "cell_type": "code",
      "execution_count": 443,
      "metadata": {
        "id": "KD-fwc1cKb4D"
      },
      "outputs": [],
      "source": [
        "# define feature columns\n",
        "cols_to_standardise = ['registration_length_hours',\n",
        "    'addFriend_cnt',\n",
        "    'addToPlaylist_cnt',\n",
        "    'nextSong_cnt',\n",
        "    'rollAdvert_cnt',\n",
        "    'thumbsDown_cnt',\n",
        "    'thumbsUp_cnt',\n",
        "    'downgrade_cnt',\n",
        "    'help_cnt',\n",
        "    'home_cnt',\n",
        "    'logout_cnt',\n",
        "    'settings_cnt']\n",
        "\n",
        "# initialise vector assesmbler to convert above cols to vector\n",
        "vectorassembler_standardise = VectorAssembler(inputCols=cols_to_standardise, outputCol='cols_to_standardise')\n",
        "\n",
        "# initialise standard scaler. This is preferred to minmaxscaler when data is likely to be normal.\n",
        "num_scaler = StandardScaler(inputCol='cols_to_standardise', outputCol ='standardised_cols', withStd=True, withMean=True)\n",
        "\n",
        "# convert features to be standardised into vector\n",
        "df_data_16 = vectorassembler_standardise.transform(df_data_15)\n",
        "# fit scaler model\n",
        "scaler_model = num_scaler.fit(df_data_16)\n",
        "# scale data\n",
        "df_data_16 = scaler_model.transform(df_data_16)\n",
        "\n",
        "# define feature columns to be vectorised\n",
        "vectorassembler = VectorAssembler(inputCols=['standardised_cols', 'male_ind', 'paid_ind'], outputCol='features')\n",
        "\n",
        "# add feature column to data\n",
        "df_data_16 = vectorassembler.transform(df_data_16)"
      ]
    },
    {
      "cell_type": "code",
      "source": [
        "# select modelling columns\n",
        "df_data_17 = df_data_16.select('features', 'label')"
      ],
      "metadata": {
        "id": "pDaWLvaLIDHh"
      },
      "execution_count": 444,
      "outputs": []
    },
    {
      "cell_type": "code",
      "execution_count": 448,
      "metadata": {
        "id": "e_PHRvBFKb4D",
        "colab": {
          "base_uri": "https://localhost:8080/"
        },
        "outputId": "27135299-73ec-4408-97af-042c2aea58b9"
      },
      "outputs": [
        {
          "output_type": "execute_result",
          "data": {
            "text/plain": [
              "DataFrame[features: vector, label: bigint]"
            ]
          },
          "metadata": {},
          "execution_count": 448
        }
      ],
      "source": [
        "# split into training and test data\n",
        "train_df, test_df = df_data_17.randomSplit([0.6,0.4], 42)\n",
        "\n",
        "# cache data in memory to speed up performance\n",
        "train_df.persist()\n",
        "test_df.persist()"
      ]
    },
    {
      "cell_type": "code",
      "execution_count": 456,
      "metadata": {
        "id": "elxEvDUlKb4E"
      },
      "outputs": [],
      "source": [
        "def make_preds(clf, train_df=train_df, test_df=test_df):\n",
        "    \"\"\"\n",
        "    This function takes in a machine learning classifier, a training set, a test set\n",
        "    and the evaluation metric of choice.\n",
        "    It trains the model on the training set data and outputs the metric results\n",
        "    after evaluating on the test set.\n",
        "    \"\"\"\n",
        "    model_name = clf\n",
        "    # start timer\n",
        "    start = time.time()\n",
        "    # instatiate model\n",
        "    model = clf()\n",
        "    # fit model\n",
        "    print('fitting model...')\n",
        "    fitmodel = model.fit(train_df)\n",
        "    # predict on test data\n",
        "    print('fitting model to test set...')\n",
        "    predictions_test = fitmodel.transform(test_df)\n",
        "    # instatiate evaluators\n",
        "    evaluator_accuracy = MulticlassClassificationEvaluator(labelCol='label', predictionCol='prediction', metricName='accuracy')\n",
        "    evaluator_f1 = MulticlassClassificationEvaluator(labelCol='label', predictionCol='prediction', metricName='f1')\n",
        "    evaluator_recall = MulticlassClassificationEvaluator(labelCol='label', predictionCol='prediction', metricName='weightedRecall')\n",
        "    evaluator_precision = MulticlassClassificationEvaluator(labelCol='label', predictionCol='prediction', metricName='weightedPrecision')\n",
        "    # evaluate test predictions\n",
        "    print('evaluating model...')\n",
        "    accuracy_score = evaluator_accuracy.evaluate(predictions_test)\n",
        "    f1_score = evaluator_f1.evaluate(predictions_test)\n",
        "    recall_score = evaluator_recall.evaluate(predictions_test)\n",
        "    precision_score = evaluator_precision.evaluate(predictions_test)\n",
        "    \n",
        "    scores = [accuracy_score, f1_score, recall_score, precision_score]\n",
        "\n",
        "    # record time taken\n",
        "    end = time.time()\n",
        "    time_taken = end-start\n",
        "    # print score\n",
        "    print(f'model: {model}\\naccuracy:{accuracy_score}\\nf1: {f1_score}\\nrecall: {recall_score}\\nprecision: {precision_score}\\ntime taken: {time_taken}')\n",
        "\n",
        "    return scores"
      ]
    },
    {
      "cell_type": "code",
      "execution_count": 467,
      "metadata": {
        "colab": {
          "base_uri": "https://localhost:8080/"
        },
        "id": "k2Hilca4Kb4E",
        "outputId": "83366946-5cee-44cc-b099-e8700435e80c"
      },
      "outputs": [
        {
          "output_type": "stream",
          "name": "stdout",
          "text": [
            "fitting model...\n",
            "fitting model to test set...\n",
            "evaluating model...\n",
            "model: DecisionTreeClassifier_b6d5334bdda4\n",
            "accuracy:0.7806122448979592\n",
            "f1: 0.7543589518187137\n",
            "recall: 0.7806122448979592\n",
            "precision: 0.7514386568580922\n",
            "time taken: 27.67125630378723\n"
          ]
        }
      ],
      "source": [
        "dt_default = make_preds(DecisionTreeClassifier)"
      ]
    },
    {
      "cell_type": "code",
      "source": [
        "rf_default = make_preds(RandomForestClassifier)"
      ],
      "metadata": {
        "colab": {
          "base_uri": "https://localhost:8080/"
        },
        "id": "M09zQYlyfmcO",
        "outputId": "3ef3fb63-402c-47b6-e9eb-5837fef13a4d"
      },
      "execution_count": 469,
      "outputs": [
        {
          "output_type": "stream",
          "name": "stdout",
          "text": [
            "fitting model...\n",
            "fitting model to test set...\n",
            "evaluating model...\n",
            "model: RandomForestClassifier_3cc621003a36\n",
            "accuracy:0.7806122448979592\n",
            "f1: 0.7221995893042945\n",
            "recall: 0.7806122448979592\n",
            "precision: 0.7466260697827517\n",
            "time taken: 45.283122062683105\n"
          ]
        }
      ]
    },
    {
      "cell_type": "code",
      "source": [
        "lr_default = make_preds(LogisticRegression)"
      ],
      "metadata": {
        "colab": {
          "base_uri": "https://localhost:8080/"
        },
        "id": "0VxLpjZjiqPE",
        "outputId": "8266358a-fcb2-478a-e3c3-98968d2cdb77"
      },
      "execution_count": 470,
      "outputs": [
        {
          "output_type": "stream",
          "name": "stdout",
          "text": [
            "fitting model...\n",
            "fitting model to test set...\n",
            "evaluating model...\n",
            "model: LogisticRegression_b9e5b00c21a0\n",
            "accuracy:0.7755102040816326\n",
            "f1: 0.7388081757093081\n",
            "recall: 0.7755102040816326\n",
            "precision: 0.7389053748171883\n",
            "time taken: 189.01524186134338\n"
          ]
        }
      ]
    },
    {
      "cell_type": "code",
      "execution_count": 471,
      "metadata": {
        "colab": {
          "base_uri": "https://localhost:8080/"
        },
        "id": "jSVzVGTsKb4E",
        "outputId": "c69a7d66-201e-477d-b507-3237121f301b"
      },
      "outputs": [
        {
          "output_type": "stream",
          "name": "stdout",
          "text": [
            "fitting model...\n",
            "fitting model to test set...\n",
            "evaluating model...\n",
            "model: GBTClassifier_06983d68baff\n",
            "accuracy:0.7755102040816326\n",
            "f1: 0.7568885789910048\n",
            "recall: 0.7755102040816327\n",
            "precision: 0.750765885540671\n",
            "time taken: 245.04678440093994\n"
          ]
        }
      ],
      "source": [
        "gbt_default = make_preds(GBTClassifier)"
      ]
    },
    {
      "cell_type": "code",
      "execution_count": 472,
      "metadata": {
        "colab": {
          "base_uri": "https://localhost:8080/"
        },
        "id": "KMFqVJ8wKb4E",
        "outputId": "9cc45360-c9ed-43ae-a866-42aaec8cd137"
      },
      "outputs": [
        {
          "output_type": "stream",
          "name": "stdout",
          "text": [
            "fitting model...\n",
            "fitting model to test set...\n",
            "evaluating model...\n",
            "model: LinearSVC_3ccbe3cbc016\n",
            "accuracy:0.7704081632653061\n",
            "f1: 0.670499323648768\n",
            "recall: 0.7704081632653061\n",
            "precision: 0.5935287380258226\n",
            "time taken: 479.2857632637024\n"
          ]
        }
      ],
      "source": [
        "svc_default = make_preds(LinearSVC)"
      ]
    },
    {
      "cell_type": "markdown",
      "source": [
        "#### Metrics\n",
        "\n",
        "*   Where there is a class label imbalance, accuracy may not be a good optimisation metric, as a model could perform well by simply predicting a single class.\n"
      ],
      "metadata": {
        "id": "QmxWSqJWz9KS"
      }
    },
    {
      "cell_type": "code",
      "source": [
        "model_names = ['Decision Tree', 'Random Forest', 'Support Vector Classifier', 'Logistic Regression', 'Gradiest Boosting Tree']\n",
        "\n",
        "# plot accuracies\n",
        "accuracy = [dt_default[0], rf_default[0], svc_default[0], lr_default[0], gbt_default[0]]\n",
        "sorted_model_names_acc = [x for _, x in sorted(zip(accuracy, model_names), key=lambda pair: pair[0])]\n",
        "plt.bar(x=sorted_model_names_acc, height=sorted(accuracy))\n",
        "plt.xticks(rotation=15)\n",
        "plt.title('Model Accuracy');"
      ],
      "metadata": {
        "colab": {
          "base_uri": "https://localhost:8080/",
          "height": 313
        },
        "id": "7RQl-vyZ0b4l",
        "outputId": "d545413f-f9f2-4eff-9bdc-799e75008ee5"
      },
      "execution_count": 480,
      "outputs": [
        {
          "output_type": "display_data",
          "data": {
            "text/plain": [
              "<Figure size 432x288 with 1 Axes>"
            ],
            "image/png": "[encoded data removed]"
          },
          "metadata": {
            "needs_background": "light"
          }
        }
      ]
    },
    {
      "cell_type": "code",
      "source": [
        "# plot f1 scores\n",
        "f1_scores = [dt_default[1], rf_default[1], svc_default[1], lr_default[1], gbt_default[1]]\n",
        "sorted_model_names_f1 = [x for _, x in sorted(zip(f1_scores, model_names), key=lambda pair: pair[0])]\n",
        "plt.bar(x=sorted_model_names_f1, height=sorted(f1_scores))\n",
        "plt.xticks(rotation=15)\n",
        "plt.title('Model F1 Score');"
      ],
      "metadata": {
        "colab": {
          "base_uri": "https://localhost:8080/",
          "height": 313
        },
        "id": "Iwu2KTbr1ZHe",
        "outputId": "2bee9995-4244-4034-8366-a939d7fcdb15"
      },
      "execution_count": 481,
      "outputs": [
        {
          "output_type": "display_data",
          "data": {
            "text/plain": [
              "<Figure size 432x288 with 1 Axes>"
            ],
            "image/png": "[encoded data removed]"
          },
          "metadata": {
            "needs_background": "light"
          }
        }
      ]
    },
    {
      "cell_type": "markdown",
      "source": [
        "### Hyperparameter Tuning"
      ],
      "metadata": {
        "id": "IEJqMo8WcU_v"
      }
    },
    {
      "cell_type": "markdown",
      "metadata": {
        "id": "AGcYYOUi-_2F"
      },
      "source": [
        "\n",
        "\n",
        "*   Given the relatively quick training time and high test accuracy using the default parameters, I will select the Random Forest algorithm to optimise.\n",
        "*   Given the skew of labels to one class (i.e. many more that did not churn than did churn), I will use the f1 score as the optimisation metric. This metric combines the recall and precision scores into a composite metric.\n",
        "*   Sparkify might consider optimising their model using the precision metric, if they wanted make the model sensitive to users who might want to cancel."
      ]
    },
    {
      "cell_type": "markdown",
      "source": [
        "\n",
        "*   Parameters to optimise:\n",
        "    *   impurity criterion: this defines how to measure the quality of each variable split\n",
        "    *   max features: this defines how many variables to consider when looking for the best split\n",
        "    *   number of trees: the number of decision trees to average over"
      ],
      "metadata": {
        "id": "07b_Z02FzrXl"
      }
    },
    {
      "cell_type": "code",
      "source": [
        "def rf_tuning(metric='f1'):  \n",
        "  # define the classifier estimator\n",
        "  clf = RandomForestClassifier()\n",
        "\n",
        "  # define the parameters to iterate through\n",
        "  paramGrid = ParamGridBuilder()\\\n",
        "  .addGrid(clf.impurity, ['gini', 'entropy'])\\\n",
        "  .addGrid(clf.featureSubsetStrategy, ['sqrt', 'log2'])\\\n",
        "  .addGrid(clf.numTrees, [20, 40])\\\n",
        "  .build()\n",
        "\n",
        "  # define the evaluator.\n",
        "  evaluator=MulticlassClassificationEvaluator(metricName=metric) \n",
        "\n",
        "  # initialise the cross validation model\n",
        "  crossval = CrossValidator(estimator=clf,\n",
        "                          estimatorParamMaps=paramGrid,\n",
        "                          evaluator=evaluator,\n",
        "                          numFolds=2)\n",
        "\n",
        "  print('fitting cross validation model..')\n",
        "  # fit the cross validation model\n",
        "  crossval_model = crossval.fit(train_df)\n",
        "\n",
        "  avg_score = np.average(crossval_model.avgMetrics)\n",
        "\n",
        "  print('predicting test set..')\n",
        " \n",
        "  predictions = crossval_model.transform(test_df)\n",
        "  \n",
        "  evaluator_f1 = MulticlassClassificationEvaluator(labelCol='label', predictionCol='prediction', metricName='f1')\n",
        "  # evaluate test predictions\n",
        "  print('evaluating model...')\n",
        "  f1_score = evaluator_f1.evaluate(predictions)\n",
        "\n",
        "  print(f'model: {clf}, avg_training_score: {avg_score}, test_f1_score: {f1_score}')\n",
        "\n",
        "  return crossval_model"
      ],
      "metadata": {
        "id": "yODFDNAdktH1"
      },
      "execution_count": 475,
      "outputs": []
    },
    {
      "cell_type": "code",
      "source": [
        "rf_model = rf_tuning()"
      ],
      "metadata": {
        "id": "hyKr9bpsvFKe",
        "colab": {
          "base_uri": "https://localhost:8080/"
        },
        "outputId": "5572937e-1e5b-49d0-efd8-710d89be9a0e"
      },
      "execution_count": 476,
      "outputs": [
        {
          "output_type": "stream",
          "name": "stdout",
          "text": [
            "fitting cross validation model..\n",
            "predicting test set..\n",
            "evaluating model...\n",
            "model: RandomForestClassifier_9dc34e05a96f, avg_training_score: 0.7555256115003661, test_f1_score: 0.7518214386346255\n"
          ]
        }
      ]
    },
    {
      "cell_type": "code",
      "source": [
        "def dt_tuning(metric='f1'):  \n",
        "  # define the classifier estimator\n",
        "  clf = DecisionTreeClassifier()\n",
        "\n",
        "  # define the parameters to iterate through\n",
        "  paramGrid = ParamGridBuilder()\\\n",
        "  .addGrid(clf.impurity, ['gini', 'entropy'])\\\n",
        "  .addGrid(clf.maxDepth, [2, 5, 10])\\\n",
        "  .build()\n",
        "\n",
        "  # define the evaluator.\n",
        "  evaluator=MulticlassClassificationEvaluator(metricName=metric) \n",
        "\n",
        "  # initialise the cross validation model\n",
        "  crossval = CrossValidator(estimator=clf,\n",
        "                          estimatorParamMaps=paramGrid,\n",
        "                          evaluator=evaluator,\n",
        "                          numFolds=2)\n",
        "\n",
        "  print('fitting cross validation model..')\n",
        "  # fit the cross validation model\n",
        "  crossval_model = crossval.fit(train_df)\n",
        "\n",
        "  avg_score = np.average(crossval_model.avgMetrics)\n",
        "\n",
        "  print('predicting test set..')\n",
        " \n",
        "  predictions = crossval_model.transform(test_df)\n",
        "  \n",
        "  evaluator_f1 = MulticlassClassificationEvaluator(labelCol='label', predictionCol='prediction', metricName='f1')\n",
        "  # evaluate test predictions\n",
        "  print('evaluating model...')\n",
        "  f1_score = evaluator_f1.evaluate(predictions)\n",
        "\n",
        "  print(f'model: {clf}, avg_training_score: {avg_score}, test_f1_score: {f1_score}')\n",
        "\n",
        "  return crossval_model\n"
      ],
      "metadata": {
        "id": "mrNqjcYS2AY3"
      },
      "execution_count": 477,
      "outputs": []
    },
    {
      "cell_type": "code",
      "source": [
        "dt_model = dt_tuning()"
      ],
      "metadata": {
        "colab": {
          "base_uri": "https://localhost:8080/"
        },
        "id": "K9N5tba92gsi",
        "outputId": "6d1e316f-4c0d-45c5-e7d3-dc1211d7aa28"
      },
      "execution_count": 478,
      "outputs": [
        {
          "output_type": "stream",
          "name": "stdout",
          "text": [
            "fitting cross validation model..\n",
            "predicting test set..\n",
            "evaluating model...\n",
            "model: DecisionTreeClassifier_a255c15f0091, avg_training_score: 0.7410565195383032, test_f1_score: 0.7239480496687289\n"
          ]
        }
      ]
    },
    {
      "cell_type": "markdown",
      "source": [
        "  ### Results"
      ],
      "metadata": {
        "id": "vAHFFaXRewsm"
      }
    },
    {
      "cell_type": "code",
      "source": [
        "# display features importances\n",
        "Y = rf_model.bestModel.featureImportances\n",
        "X = cols_to_standardise + ['male_ind', 'paid_ind']\n",
        "inputcols_sorted = [x for _, x in sorted(zip(Y, X), key=lambda pair: pair[0])]\n",
        "\n",
        "plt.barh(y=inputcols_sorted, width=sorted(Y))\n",
        "plt.title('Feature Importances');"
      ],
      "metadata": {
        "id": "HksuP91-vHHv",
        "colab": {
          "base_uri": "https://localhost:8080/",
          "height": 281
        },
        "outputId": "d77d990d-7a00-475c-d879-3dbac5b4c2af"
      },
      "execution_count": 464,
      "outputs": [
        {
          "output_type": "display_data",
          "data": {
            "text/plain": [
              "<Figure size 432x288 with 1 Axes>"
            ],
            "image/png": "[encoded data removed]"
          },
          "metadata": {
            "needs_background": "light"
          }
        }
      ]
    },
    {
      "cell_type": "code",
      "source": [
        "bestModel = rf_model.bestModel\n",
        "\n",
        "print(f'Best Impurity Param: {bestModel._java_obj.getImpurity()}')\n",
        "print(f'Best Feature Subset Strategy Param: {bestModel._java_obj.getFeatureSubsetStrategy()}')\n",
        "print(f'Best NumTrees Param: {bestModel._java_obj.getNumTrees()}')"
      ],
      "metadata": {
        "id": "KZ3PFd7me2mv",
        "colab": {
          "base_uri": "https://localhost:8080/"
        },
        "outputId": "992ce140-2570-4b63-997b-6ccad8e05276"
      },
      "execution_count": 465,
      "outputs": [
        {
          "output_type": "stream",
          "name": "stdout",
          "text": [
            "Best Impurity Param: entropy\n",
            "Best Feature Subset Strategy Param: sqrt\n",
            "Best NumTrees Param: 40\n"
          ]
        }
      ]
    },
    {
      "cell_type": "markdown",
      "source": [
        "### Reflection"
      ],
      "metadata": {
        "id": "PDypO8eJc8BU"
      }
    },
    {
      "cell_type": "markdown",
      "source": [
        "\n",
        "\n",
        "*   Interestingly, the gender feature does not appear as an important feature in the model.\n",
        "*   Similarly, the level feature has no importance in the model.\n",
        "*   The most key features is the length of time since registration. Sparkify should spend more time thinking about how to better onboard their users.\n",
        "*   Other important features relate to how a user interacts with the platform. These should be monitored periodically to identify users who may be disatisfied.\n",
        "\n"
      ],
      "metadata": {
        "id": "Dvbt1fxNl-rT"
      }
    },
    {
      "cell_type": "markdown",
      "source": [
        "### Improvements\n",
        "\n",
        "This study only analyses two weeks of Sparkify data. An analysis over a longer period of time would give more credibility to the results and modelling. In addition, Sparkify might consider doing this study periodically in case their user demographic changed.\n",
        "\n"
      ],
      "metadata": {
        "id": "sqzadgpQcgYP"
      }
    }
  ],
  "metadata": {
    "colab": {
      "collapsed_sections": [],
      "provenance": []
    },
    "kernelspec": {
      "display_name": "Python 3 (ipykernel)",
      "language": "python",
      "name": "python3"
    },
    "language_info": {
      "codemirror_mode": {
        "name": "ipython",
        "version": 3
      },
      "file_extension": ".py",
      "mimetype": "text/x-python",
      "name": "python",
      "nbconvert_exporter": "python",
      "pygments_lexer": "ipython3",
      "version": "3.10.4"
    }
  },
  "nbformat": 4,
  "nbformat_minor": 0
}